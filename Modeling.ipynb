{
 "cells": [
  {
   "cell_type": "code",
   "execution_count": 421,
   "metadata": {},
   "outputs": [],
   "source": [
    "import pandas as pd\n",
    "import numpy as np\n",
    "import matplotlib.pyplot as plt\n",
    "import seaborn as sns\n",
    "\n",
    "from sklearn.linear_model import LogisticRegression\n",
    "from sklearn.preprocessing import MinMaxScaler\n",
    "from sklearn.preprocessing import StandardScaler, OneHotEncoder, LabelEncoder\n",
    "from sklearn.model_selection import train_test_split\n",
    "\n",
    "from sklearn.ensemble import RandomForestClassifier\n",
    "\n",
    "\n",
    "from sklearn.model_selection import GridSearchCV, cross_validate\n"
   ]
  },
  {
   "cell_type": "markdown",
   "metadata": {},
   "source": [
    "All questions in this section pertain to two of the datasets listed above in Exam Materials\n",
    "(training_set_data.csv and unlabeled_data.csv), with the data_dictionary.txt file providing the\n",
    "metadata needed to understand the contents and formats of each .csv. \n",
    "\n",
    "Please note that the data is still in its raw, original form and may require some cleaning and/or standardization.\n",
    "\n",
    "\n",
    "Imagine we are being asked by one of our clients, ACME X, to predict if a given individual is\n",
    "uninsured or not (health insurance). Using the data in training_set_data.csv, please train a model\n",
    "to predict whether each person in the data set is uninsured or not. \n",
    "\n",
    "\n",
    "Furthermore, our main contact\n",
    "at ACME X will need to explain the basics of the model to their smart, but non-technical\n",
    "coworkers, so interpretability of how the model inputs relate to the predictions will be important."
   ]
  },
  {
   "cell_type": "code",
   "execution_count": 422,
   "metadata": {},
   "outputs": [
    {
     "data": {
      "text/html": [
       "<div>\n",
       "<style scoped>\n",
       "    .dataframe tbody tr th:only-of-type {\n",
       "        vertical-align: middle;\n",
       "    }\n",
       "\n",
       "    .dataframe tbody tr th {\n",
       "        vertical-align: top;\n",
       "    }\n",
       "\n",
       "    .dataframe thead th {\n",
       "        text-align: right;\n",
       "    }\n",
       "</style>\n",
       "<table border=\"1\" class=\"dataframe\">\n",
       "  <thead>\n",
       "    <tr style=\"text-align: right;\">\n",
       "      <th></th>\n",
       "      <th>person_id</th>\n",
       "      <th>age</th>\n",
       "      <th>citizen_status</th>\n",
       "      <th>nativity_status</th>\n",
       "      <th>weekly_hours_worked</th>\n",
       "      <th>total_income</th>\n",
       "      <th>self_employed_income</th>\n",
       "      <th>wage_income</th>\n",
       "      <th>interest_income</th>\n",
       "      <th>other_income</th>\n",
       "      <th>marital_status</th>\n",
       "      <th>school_status</th>\n",
       "      <th>sex</th>\n",
       "      <th>when_last_worked</th>\n",
       "      <th>worked_last_week</th>\n",
       "      <th>language</th>\n",
       "      <th>race_native_american</th>\n",
       "      <th>race_asian</th>\n",
       "      <th>race_black</th>\n",
       "      <th>race_native_hawaiian</th>\n",
       "      <th>race_pacific_islander</th>\n",
       "      <th>race_white</th>\n",
       "      <th>race_other</th>\n",
       "      <th>uninsured</th>\n",
       "      <th>household_id</th>\n",
       "    </tr>\n",
       "  </thead>\n",
       "  <tbody>\n",
       "    <tr>\n",
       "      <th>0</th>\n",
       "      <td>1</td>\n",
       "      <td>45</td>\n",
       "      <td>citizen_birth</td>\n",
       "      <td>native_born</td>\n",
       "      <td>15</td>\n",
       "      <td>908.0</td>\n",
       "      <td>62.0</td>\n",
       "      <td>800.0</td>\n",
       "      <td>11.0</td>\n",
       "      <td>35.0</td>\n",
       "      <td>married</td>\n",
       "      <td>not_student</td>\n",
       "      <td>FEMALE</td>\n",
       "      <td>in_last_year</td>\n",
       "      <td>worked</td>\n",
       "      <td>English</td>\n",
       "      <td>0</td>\n",
       "      <td>0</td>\n",
       "      <td>0</td>\n",
       "      <td>0</td>\n",
       "      <td>0</td>\n",
       "      <td>1</td>\n",
       "      <td>0</td>\n",
       "      <td>0</td>\n",
       "      <td>1</td>\n",
       "    </tr>\n",
       "    <tr>\n",
       "      <th>1</th>\n",
       "      <td>2</td>\n",
       "      <td>47</td>\n",
       "      <td>citizen_birth</td>\n",
       "      <td>native_born</td>\n",
       "      <td>50</td>\n",
       "      <td>180499.0</td>\n",
       "      <td>49.0</td>\n",
       "      <td>160007.0</td>\n",
       "      <td>20424.0</td>\n",
       "      <td>19.0</td>\n",
       "      <td>married</td>\n",
       "      <td>not_student</td>\n",
       "      <td>MALE</td>\n",
       "      <td>in_last_year</td>\n",
       "      <td>worked</td>\n",
       "      <td>English</td>\n",
       "      <td>0</td>\n",
       "      <td>0</td>\n",
       "      <td>0</td>\n",
       "      <td>0</td>\n",
       "      <td>0</td>\n",
       "      <td>1</td>\n",
       "      <td>0</td>\n",
       "      <td>0</td>\n",
       "      <td>1</td>\n",
       "    </tr>\n",
       "    <tr>\n",
       "      <th>2</th>\n",
       "      <td>4</td>\n",
       "      <td>26</td>\n",
       "      <td>citizen_birth</td>\n",
       "      <td>native_born</td>\n",
       "      <td>0</td>\n",
       "      <td>7367.0</td>\n",
       "      <td>93.0</td>\n",
       "      <td>4.0</td>\n",
       "      <td>20.0</td>\n",
       "      <td>7250.0</td>\n",
       "      <td>never_married</td>\n",
       "      <td>not_student</td>\n",
       "      <td>male</td>\n",
       "      <td>over_five_years_ago</td>\n",
       "      <td>not_reported</td>\n",
       "      <td>English</td>\n",
       "      <td>0</td>\n",
       "      <td>0</td>\n",
       "      <td>1</td>\n",
       "      <td>0</td>\n",
       "      <td>0</td>\n",
       "      <td>0</td>\n",
       "      <td>0</td>\n",
       "      <td>0</td>\n",
       "      <td>2</td>\n",
       "    </tr>\n",
       "  </tbody>\n",
       "</table>\n",
       "</div>"
      ],
      "text/plain": [
       "   person_id  age citizen_status nativity_status  weekly_hours_worked  \\\n",
       "0          1   45  citizen_birth     native_born                   15   \n",
       "1          2   47  citizen_birth     native_born                   50   \n",
       "2          4   26  citizen_birth     native_born                    0   \n",
       "\n",
       "   total_income  self_employed_income  wage_income  interest_income  \\\n",
       "0         908.0                  62.0        800.0             11.0   \n",
       "1      180499.0                  49.0     160007.0          20424.0   \n",
       "2        7367.0                  93.0          4.0             20.0   \n",
       "\n",
       "   other_income marital_status school_status     sex     when_last_worked  \\\n",
       "0          35.0        married   not_student  FEMALE         in_last_year   \n",
       "1          19.0        married   not_student    MALE         in_last_year   \n",
       "2        7250.0  never_married   not_student    male  over_five_years_ago   \n",
       "\n",
       "  worked_last_week language  race_native_american  race_asian  race_black  \\\n",
       "0           worked  English                     0           0           0   \n",
       "1           worked  English                     0           0           0   \n",
       "2     not_reported  English                     0           0           1   \n",
       "\n",
       "   race_native_hawaiian  race_pacific_islander  race_white  race_other  \\\n",
       "0                     0                      0           1           0   \n",
       "1                     0                      0           1           0   \n",
       "2                     0                      0           0           0   \n",
       "\n",
       "   uninsured  household_id  \n",
       "0          0             1  \n",
       "1          0             1  \n",
       "2          0             2  "
      ]
     },
     "execution_count": 422,
     "metadata": {},
     "output_type": "execute_result"
    }
   ],
   "source": [
    "train = pd.read_csv('training_set_data.csv')\n",
    "pd.set_option('display.max_columns', 500)\n",
    "train.head(3)"
   ]
  },
  {
   "cell_type": "markdown",
   "metadata": {},
   "source": [
    "## EDA"
   ]
  },
  {
   "cell_type": "code",
   "execution_count": 423,
   "metadata": {},
   "outputs": [
    {
     "data": {
      "text/plain": [
       "F    30834\n",
       "M    28763\n",
       "Name: sex, dtype: int64"
      ]
     },
     "execution_count": 423,
     "metadata": {},
     "output_type": "execute_result"
    }
   ],
   "source": [
    "train.sex = train.sex.replace({'FEMALE': 'F'})\n",
    "train.sex = train.sex.replace({'female': 'F'})\n",
    "\n",
    "train.sex = train.sex.replace({'MALE': 'M'})\n",
    "train.sex = train.sex.replace({'male': 'M'})\n",
    "\n",
    "train.sex.value_counts()"
   ]
  },
  {
   "cell_type": "code",
   "execution_count": 424,
   "metadata": {},
   "outputs": [
    {
     "data": {
      "text/plain": [
       "91"
      ]
     },
     "execution_count": 424,
     "metadata": {},
     "output_type": "execute_result"
    }
   ],
   "source": [
    "train.language.value_counts(normalize=True).count()"
   ]
  },
  {
   "cell_type": "code",
   "execution_count": 425,
   "metadata": {},
   "outputs": [],
   "source": [
    "for val in train.language.values:\n",
    "    if val != 'English':\n",
    "        train.language = train.language.replace({val:'not_english'})\n"
   ]
  },
  {
   "cell_type": "code",
   "execution_count": 426,
   "metadata": {},
   "outputs": [
    {
     "data": {
      "text/plain": [
       "English        49326\n",
       "not_english    10271\n",
       "Name: language, dtype: int64"
      ]
     },
     "execution_count": 426,
     "metadata": {},
     "output_type": "execute_result"
    }
   ],
   "source": [
    "train.language.value_counts()"
   ]
  },
  {
   "cell_type": "code",
   "execution_count": 427,
   "metadata": {},
   "outputs": [
    {
     "data": {
      "text/plain": [
       "0    59576\n",
       "1       21\n",
       "Name: race_native_hawaiian, dtype: int64"
      ]
     },
     "execution_count": 427,
     "metadata": {},
     "output_type": "execute_result"
    }
   ],
   "source": [
    "train.race_native_hawaiian.value_counts()"
   ]
  },
  {
   "cell_type": "code",
   "execution_count": 428,
   "metadata": {},
   "outputs": [],
   "source": [
    "# unlabeled = pd.read_csv('unlabeled_data.csv')\n",
    "# pd.set_option('display.max_columns', 500)\n",
    "# # unlabeled.head()"
   ]
  },
  {
   "cell_type": "code",
   "execution_count": 429,
   "metadata": {},
   "outputs": [
    {
     "data": {
      "text/html": [
       "<div>\n",
       "<style scoped>\n",
       "    .dataframe tbody tr th:only-of-type {\n",
       "        vertical-align: middle;\n",
       "    }\n",
       "\n",
       "    .dataframe tbody tr th {\n",
       "        vertical-align: top;\n",
       "    }\n",
       "\n",
       "    .dataframe thead th {\n",
       "        text-align: right;\n",
       "    }\n",
       "</style>\n",
       "<table border=\"1\" class=\"dataframe\">\n",
       "  <thead>\n",
       "    <tr style=\"text-align: right;\">\n",
       "      <th></th>\n",
       "      <th>person_id</th>\n",
       "      <th>age</th>\n",
       "      <th>citizen_status</th>\n",
       "      <th>nativity_status</th>\n",
       "      <th>weekly_hours_worked</th>\n",
       "      <th>total_income</th>\n",
       "      <th>self_employed_income</th>\n",
       "      <th>wage_income</th>\n",
       "      <th>interest_income</th>\n",
       "      <th>other_income</th>\n",
       "      <th>marital_status</th>\n",
       "      <th>school_status</th>\n",
       "      <th>sex</th>\n",
       "      <th>when_last_worked</th>\n",
       "      <th>worked_last_week</th>\n",
       "      <th>language</th>\n",
       "      <th>race_native_american</th>\n",
       "      <th>race_asian</th>\n",
       "      <th>race_black</th>\n",
       "      <th>race_native_hawaiian</th>\n",
       "      <th>race_pacific_islander</th>\n",
       "      <th>race_white</th>\n",
       "      <th>race_other</th>\n",
       "      <th>uninsured</th>\n",
       "      <th>household_id</th>\n",
       "    </tr>\n",
       "  </thead>\n",
       "  <tbody>\n",
       "    <tr>\n",
       "      <th>0</th>\n",
       "      <td>1</td>\n",
       "      <td>45</td>\n",
       "      <td>citizen_birth</td>\n",
       "      <td>native_born</td>\n",
       "      <td>15</td>\n",
       "      <td>908.0</td>\n",
       "      <td>62.0</td>\n",
       "      <td>800.0</td>\n",
       "      <td>11.0</td>\n",
       "      <td>35.0</td>\n",
       "      <td>married</td>\n",
       "      <td>not_student</td>\n",
       "      <td>F</td>\n",
       "      <td>in_last_year</td>\n",
       "      <td>worked</td>\n",
       "      <td>English</td>\n",
       "      <td>0</td>\n",
       "      <td>0</td>\n",
       "      <td>0</td>\n",
       "      <td>0</td>\n",
       "      <td>0</td>\n",
       "      <td>1</td>\n",
       "      <td>0</td>\n",
       "      <td>0</td>\n",
       "      <td>1</td>\n",
       "    </tr>\n",
       "    <tr>\n",
       "      <th>1</th>\n",
       "      <td>2</td>\n",
       "      <td>47</td>\n",
       "      <td>citizen_birth</td>\n",
       "      <td>native_born</td>\n",
       "      <td>50</td>\n",
       "      <td>180499.0</td>\n",
       "      <td>49.0</td>\n",
       "      <td>160007.0</td>\n",
       "      <td>20424.0</td>\n",
       "      <td>19.0</td>\n",
       "      <td>married</td>\n",
       "      <td>not_student</td>\n",
       "      <td>M</td>\n",
       "      <td>in_last_year</td>\n",
       "      <td>worked</td>\n",
       "      <td>English</td>\n",
       "      <td>0</td>\n",
       "      <td>0</td>\n",
       "      <td>0</td>\n",
       "      <td>0</td>\n",
       "      <td>0</td>\n",
       "      <td>1</td>\n",
       "      <td>0</td>\n",
       "      <td>0</td>\n",
       "      <td>1</td>\n",
       "    </tr>\n",
       "    <tr>\n",
       "      <th>2</th>\n",
       "      <td>4</td>\n",
       "      <td>26</td>\n",
       "      <td>citizen_birth</td>\n",
       "      <td>native_born</td>\n",
       "      <td>0</td>\n",
       "      <td>7367.0</td>\n",
       "      <td>93.0</td>\n",
       "      <td>4.0</td>\n",
       "      <td>20.0</td>\n",
       "      <td>7250.0</td>\n",
       "      <td>never_married</td>\n",
       "      <td>not_student</td>\n",
       "      <td>M</td>\n",
       "      <td>over_five_years_ago</td>\n",
       "      <td>not_reported</td>\n",
       "      <td>English</td>\n",
       "      <td>0</td>\n",
       "      <td>0</td>\n",
       "      <td>1</td>\n",
       "      <td>0</td>\n",
       "      <td>0</td>\n",
       "      <td>0</td>\n",
       "      <td>0</td>\n",
       "      <td>0</td>\n",
       "      <td>2</td>\n",
       "    </tr>\n",
       "    <tr>\n",
       "      <th>3</th>\n",
       "      <td>5</td>\n",
       "      <td>42</td>\n",
       "      <td>citizen_naturalized</td>\n",
       "      <td>foreign_born</td>\n",
       "      <td>0</td>\n",
       "      <td>22970.0</td>\n",
       "      <td>51.0</td>\n",
       "      <td>46.0</td>\n",
       "      <td>283.0</td>\n",
       "      <td>22590.0</td>\n",
       "      <td>never_married</td>\n",
       "      <td>public_school</td>\n",
       "      <td>M</td>\n",
       "      <td>in_last_five_years</td>\n",
       "      <td>did_not_work</td>\n",
       "      <td>not_english</td>\n",
       "      <td>0</td>\n",
       "      <td>1</td>\n",
       "      <td>0</td>\n",
       "      <td>0</td>\n",
       "      <td>0</td>\n",
       "      <td>0</td>\n",
       "      <td>0</td>\n",
       "      <td>0</td>\n",
       "      <td>3</td>\n",
       "    </tr>\n",
       "    <tr>\n",
       "      <th>4</th>\n",
       "      <td>6</td>\n",
       "      <td>79</td>\n",
       "      <td>citizen_naturalized</td>\n",
       "      <td>foreign_born</td>\n",
       "      <td>0</td>\n",
       "      <td>7941.0</td>\n",
       "      <td>23.0</td>\n",
       "      <td>94.0</td>\n",
       "      <td>73.0</td>\n",
       "      <td>7751.0</td>\n",
       "      <td>married</td>\n",
       "      <td>not_student</td>\n",
       "      <td>M</td>\n",
       "      <td>over_five_years_ago</td>\n",
       "      <td>did_not_work</td>\n",
       "      <td>not_english</td>\n",
       "      <td>0</td>\n",
       "      <td>1</td>\n",
       "      <td>0</td>\n",
       "      <td>0</td>\n",
       "      <td>0</td>\n",
       "      <td>0</td>\n",
       "      <td>0</td>\n",
       "      <td>0</td>\n",
       "      <td>3</td>\n",
       "    </tr>\n",
       "  </tbody>\n",
       "</table>\n",
       "</div>"
      ],
      "text/plain": [
       "   person_id  age       citizen_status nativity_status  weekly_hours_worked  \\\n",
       "0          1   45        citizen_birth     native_born                   15   \n",
       "1          2   47        citizen_birth     native_born                   50   \n",
       "2          4   26        citizen_birth     native_born                    0   \n",
       "3          5   42  citizen_naturalized    foreign_born                    0   \n",
       "4          6   79  citizen_naturalized    foreign_born                    0   \n",
       "\n",
       "   total_income  self_employed_income  wage_income  interest_income  \\\n",
       "0         908.0                  62.0        800.0             11.0   \n",
       "1      180499.0                  49.0     160007.0          20424.0   \n",
       "2        7367.0                  93.0          4.0             20.0   \n",
       "3       22970.0                  51.0         46.0            283.0   \n",
       "4        7941.0                  23.0         94.0             73.0   \n",
       "\n",
       "   other_income marital_status  school_status sex     when_last_worked  \\\n",
       "0          35.0        married    not_student   F         in_last_year   \n",
       "1          19.0        married    not_student   M         in_last_year   \n",
       "2        7250.0  never_married    not_student   M  over_five_years_ago   \n",
       "3       22590.0  never_married  public_school   M   in_last_five_years   \n",
       "4        7751.0        married    not_student   M  over_five_years_ago   \n",
       "\n",
       "  worked_last_week     language  race_native_american  race_asian  race_black  \\\n",
       "0           worked      English                     0           0           0   \n",
       "1           worked      English                     0           0           0   \n",
       "2     not_reported      English                     0           0           1   \n",
       "3     did_not_work  not_english                     0           1           0   \n",
       "4     did_not_work  not_english                     0           1           0   \n",
       "\n",
       "   race_native_hawaiian  race_pacific_islander  race_white  race_other  \\\n",
       "0                     0                      0           1           0   \n",
       "1                     0                      0           1           0   \n",
       "2                     0                      0           0           0   \n",
       "3                     0                      0           0           0   \n",
       "4                     0                      0           0           0   \n",
       "\n",
       "   uninsured  household_id  \n",
       "0          0             1  \n",
       "1          0             1  \n",
       "2          0             2  \n",
       "3          0             3  \n",
       "4          0             3  "
      ]
     },
     "execution_count": 429,
     "metadata": {},
     "output_type": "execute_result"
    }
   ],
   "source": [
    "train.head()"
   ]
  },
  {
   "cell_type": "code",
   "execution_count": 430,
   "metadata": {
    "scrolled": true
   },
   "outputs": [],
   "source": [
    "#Target and independent variables\n",
    "\n",
    "X = train.drop(['person_id', 'uninsured', 'household_id',  \n",
    "                 ],  axis=1)\n",
    "y= train['uninsured']\n"
   ]
  },
  {
   "cell_type": "code",
   "execution_count": 431,
   "metadata": {},
   "outputs": [
    {
     "data": {
      "text/plain": [
       "0    0.922479\n",
       "1    0.077521\n",
       "Name: uninsured, dtype: float64"
      ]
     },
     "execution_count": 431,
     "metadata": {},
     "output_type": "execute_result"
    }
   ],
   "source": [
    "y.value_counts(normalize=True)"
   ]
  },
  {
   "cell_type": "markdown",
   "metadata": {},
   "source": [
    "## One hot encoder"
   ]
  },
  {
   "cell_type": "code",
   "execution_count": 432,
   "metadata": {},
   "outputs": [],
   "source": [
    "cont = X.select_dtypes(exclude='object')\n",
    "\n",
    "cat = X.select_dtypes(include='object')"
   ]
  },
  {
   "cell_type": "code",
   "execution_count": null,
   "metadata": {},
   "outputs": [],
   "source": []
  },
  {
   "cell_type": "markdown",
   "metadata": {},
   "source": [
    "###  Scaling cont  variables "
   ]
  },
  {
   "cell_type": "code",
   "execution_count": 433,
   "metadata": {},
   "outputs": [
    {
     "name": "stderr",
     "output_type": "stream",
     "text": [
      "/opt/anaconda3/lib/python3.7/site-packages/ipykernel_launcher.py:2: SettingWithCopyWarning: \n",
      "A value is trying to be set on a copy of a slice from a DataFrame.\n",
      "Try using .loc[row_indexer,col_indexer] = value instead\n",
      "\n",
      "See the caveats in the documentation: https://pandas.pydata.org/pandas-docs/stable/user_guide/indexing.html#returning-a-view-versus-a-copy\n",
      "  \n"
     ]
    }
   ],
   "source": [
    "for col in cont.columns:\n",
    "    cont[col]= (cont[col]-min(cont[col]))/(max(cont[col]-min(cont[col])))"
   ]
  },
  {
   "cell_type": "code",
   "execution_count": 434,
   "metadata": {},
   "outputs": [
    {
     "data": {
      "text/html": [
       "<div>\n",
       "<style scoped>\n",
       "    .dataframe tbody tr th:only-of-type {\n",
       "        vertical-align: middle;\n",
       "    }\n",
       "\n",
       "    .dataframe tbody tr th {\n",
       "        vertical-align: top;\n",
       "    }\n",
       "\n",
       "    .dataframe thead th {\n",
       "        text-align: right;\n",
       "    }\n",
       "</style>\n",
       "<table border=\"1\" class=\"dataframe\">\n",
       "  <thead>\n",
       "    <tr style=\"text-align: right;\">\n",
       "      <th></th>\n",
       "      <th>age</th>\n",
       "      <th>weekly_hours_worked</th>\n",
       "      <th>total_income</th>\n",
       "      <th>self_employed_income</th>\n",
       "      <th>wage_income</th>\n",
       "      <th>interest_income</th>\n",
       "      <th>other_income</th>\n",
       "      <th>race_native_american</th>\n",
       "      <th>race_asian</th>\n",
       "      <th>race_black</th>\n",
       "      <th>race_native_hawaiian</th>\n",
       "      <th>race_pacific_islander</th>\n",
       "      <th>race_white</th>\n",
       "      <th>race_other</th>\n",
       "    </tr>\n",
       "  </thead>\n",
       "  <tbody>\n",
       "    <tr>\n",
       "      <th>0</th>\n",
       "      <td>0.355263</td>\n",
       "      <td>0.151515</td>\n",
       "      <td>0.000840</td>\n",
       "      <td>0.000200</td>\n",
       "      <td>0.001584</td>\n",
       "      <td>0.000045</td>\n",
       "      <td>0.000144</td>\n",
       "      <td>0.0</td>\n",
       "      <td>0.0</td>\n",
       "      <td>0.0</td>\n",
       "      <td>0.0</td>\n",
       "      <td>0.0</td>\n",
       "      <td>1.0</td>\n",
       "      <td>0.0</td>\n",
       "    </tr>\n",
       "    <tr>\n",
       "      <th>1</th>\n",
       "      <td>0.381579</td>\n",
       "      <td>0.505051</td>\n",
       "      <td>0.170235</td>\n",
       "      <td>0.000158</td>\n",
       "      <td>0.316782</td>\n",
       "      <td>0.083329</td>\n",
       "      <td>0.000078</td>\n",
       "      <td>0.0</td>\n",
       "      <td>0.0</td>\n",
       "      <td>0.0</td>\n",
       "      <td>0.0</td>\n",
       "      <td>0.0</td>\n",
       "      <td>1.0</td>\n",
       "      <td>0.0</td>\n",
       "    </tr>\n",
       "    <tr>\n",
       "      <th>2</th>\n",
       "      <td>0.105263</td>\n",
       "      <td>0.000000</td>\n",
       "      <td>0.006933</td>\n",
       "      <td>0.000300</td>\n",
       "      <td>0.000008</td>\n",
       "      <td>0.000082</td>\n",
       "      <td>0.029835</td>\n",
       "      <td>0.0</td>\n",
       "      <td>0.0</td>\n",
       "      <td>1.0</td>\n",
       "      <td>0.0</td>\n",
       "      <td>0.0</td>\n",
       "      <td>0.0</td>\n",
       "      <td>0.0</td>\n",
       "    </tr>\n",
       "    <tr>\n",
       "      <th>3</th>\n",
       "      <td>0.315789</td>\n",
       "      <td>0.000000</td>\n",
       "      <td>0.021650</td>\n",
       "      <td>0.000164</td>\n",
       "      <td>0.000091</td>\n",
       "      <td>0.001155</td>\n",
       "      <td>0.092962</td>\n",
       "      <td>0.0</td>\n",
       "      <td>1.0</td>\n",
       "      <td>0.0</td>\n",
       "      <td>0.0</td>\n",
       "      <td>0.0</td>\n",
       "      <td>0.0</td>\n",
       "      <td>0.0</td>\n",
       "    </tr>\n",
       "    <tr>\n",
       "      <th>4</th>\n",
       "      <td>0.802632</td>\n",
       "      <td>0.000000</td>\n",
       "      <td>0.007474</td>\n",
       "      <td>0.000074</td>\n",
       "      <td>0.000186</td>\n",
       "      <td>0.000298</td>\n",
       "      <td>0.031897</td>\n",
       "      <td>0.0</td>\n",
       "      <td>1.0</td>\n",
       "      <td>0.0</td>\n",
       "      <td>0.0</td>\n",
       "      <td>0.0</td>\n",
       "      <td>0.0</td>\n",
       "      <td>0.0</td>\n",
       "    </tr>\n",
       "  </tbody>\n",
       "</table>\n",
       "</div>"
      ],
      "text/plain": [
       "        age  weekly_hours_worked  total_income  self_employed_income  \\\n",
       "0  0.355263             0.151515      0.000840              0.000200   \n",
       "1  0.381579             0.505051      0.170235              0.000158   \n",
       "2  0.105263             0.000000      0.006933              0.000300   \n",
       "3  0.315789             0.000000      0.021650              0.000164   \n",
       "4  0.802632             0.000000      0.007474              0.000074   \n",
       "\n",
       "   wage_income  interest_income  other_income  race_native_american  \\\n",
       "0     0.001584         0.000045      0.000144                   0.0   \n",
       "1     0.316782         0.083329      0.000078                   0.0   \n",
       "2     0.000008         0.000082      0.029835                   0.0   \n",
       "3     0.000091         0.001155      0.092962                   0.0   \n",
       "4     0.000186         0.000298      0.031897                   0.0   \n",
       "\n",
       "   race_asian  race_black  race_native_hawaiian  race_pacific_islander  \\\n",
       "0         0.0         0.0                   0.0                    0.0   \n",
       "1         0.0         0.0                   0.0                    0.0   \n",
       "2         0.0         1.0                   0.0                    0.0   \n",
       "3         1.0         0.0                   0.0                    0.0   \n",
       "4         1.0         0.0                   0.0                    0.0   \n",
       "\n",
       "   race_white  race_other  \n",
       "0         1.0         0.0  \n",
       "1         1.0         0.0  \n",
       "2         0.0         0.0  \n",
       "3         0.0         0.0  \n",
       "4         0.0         0.0  "
      ]
     },
     "execution_count": 434,
     "metadata": {},
     "output_type": "execute_result"
    }
   ],
   "source": [
    "\n",
    "cont.head()"
   ]
  },
  {
   "cell_type": "code",
   "execution_count": 435,
   "metadata": {},
   "outputs": [],
   "source": [
    "ehe = OneHotEncoder(drop='first')\n"
   ]
  },
  {
   "cell_type": "code",
   "execution_count": 436,
   "metadata": {},
   "outputs": [],
   "source": [
    "tran = ehe.fit_transform(cat).toarray()"
   ]
  },
  {
   "cell_type": "code",
   "execution_count": 437,
   "metadata": {},
   "outputs": [],
   "source": [
    "tran_df= pd.DataFrame(tran, columns=ehe.get_feature_names(cat.columns))"
   ]
  },
  {
   "cell_type": "code",
   "execution_count": 438,
   "metadata": {},
   "outputs": [
    {
     "data": {
      "text/html": [
       "<div>\n",
       "<style scoped>\n",
       "    .dataframe tbody tr th:only-of-type {\n",
       "        vertical-align: middle;\n",
       "    }\n",
       "\n",
       "    .dataframe tbody tr th {\n",
       "        vertical-align: top;\n",
       "    }\n",
       "\n",
       "    .dataframe thead th {\n",
       "        text-align: right;\n",
       "    }\n",
       "</style>\n",
       "<table border=\"1\" class=\"dataframe\">\n",
       "  <thead>\n",
       "    <tr style=\"text-align: right;\">\n",
       "      <th></th>\n",
       "      <th>citizen_status_citizen_naturalized</th>\n",
       "      <th>citizen_status_noncitizen</th>\n",
       "      <th>nativity_status_native_born</th>\n",
       "      <th>marital_status_married</th>\n",
       "      <th>marital_status_never_married</th>\n",
       "      <th>marital_status_separated</th>\n",
       "      <th>marital_status_widowed</th>\n",
       "      <th>school_status_private_school</th>\n",
       "      <th>school_status_public_school</th>\n",
       "      <th>sex_M</th>\n",
       "      <th>when_last_worked_in_last_year</th>\n",
       "      <th>when_last_worked_over_five_years_ago</th>\n",
       "      <th>worked_last_week_not_reported</th>\n",
       "      <th>worked_last_week_worked</th>\n",
       "      <th>language_not_english</th>\n",
       "    </tr>\n",
       "  </thead>\n",
       "  <tbody>\n",
       "    <tr>\n",
       "      <th>0</th>\n",
       "      <td>0.0</td>\n",
       "      <td>0.0</td>\n",
       "      <td>1.0</td>\n",
       "      <td>1.0</td>\n",
       "      <td>0.0</td>\n",
       "      <td>0.0</td>\n",
       "      <td>0.0</td>\n",
       "      <td>0.0</td>\n",
       "      <td>0.0</td>\n",
       "      <td>0.0</td>\n",
       "      <td>1.0</td>\n",
       "      <td>0.0</td>\n",
       "      <td>0.0</td>\n",
       "      <td>1.0</td>\n",
       "      <td>0.0</td>\n",
       "    </tr>\n",
       "    <tr>\n",
       "      <th>1</th>\n",
       "      <td>0.0</td>\n",
       "      <td>0.0</td>\n",
       "      <td>1.0</td>\n",
       "      <td>1.0</td>\n",
       "      <td>0.0</td>\n",
       "      <td>0.0</td>\n",
       "      <td>0.0</td>\n",
       "      <td>0.0</td>\n",
       "      <td>0.0</td>\n",
       "      <td>1.0</td>\n",
       "      <td>1.0</td>\n",
       "      <td>0.0</td>\n",
       "      <td>0.0</td>\n",
       "      <td>1.0</td>\n",
       "      <td>0.0</td>\n",
       "    </tr>\n",
       "  </tbody>\n",
       "</table>\n",
       "</div>"
      ],
      "text/plain": [
       "   citizen_status_citizen_naturalized  citizen_status_noncitizen  \\\n",
       "0                                 0.0                        0.0   \n",
       "1                                 0.0                        0.0   \n",
       "\n",
       "   nativity_status_native_born  marital_status_married  \\\n",
       "0                          1.0                     1.0   \n",
       "1                          1.0                     1.0   \n",
       "\n",
       "   marital_status_never_married  marital_status_separated  \\\n",
       "0                           0.0                       0.0   \n",
       "1                           0.0                       0.0   \n",
       "\n",
       "   marital_status_widowed  school_status_private_school  \\\n",
       "0                     0.0                           0.0   \n",
       "1                     0.0                           0.0   \n",
       "\n",
       "   school_status_public_school  sex_M  when_last_worked_in_last_year  \\\n",
       "0                          0.0    0.0                            1.0   \n",
       "1                          0.0    1.0                            1.0   \n",
       "\n",
       "   when_last_worked_over_five_years_ago  worked_last_week_not_reported  \\\n",
       "0                                   0.0                            0.0   \n",
       "1                                   0.0                            0.0   \n",
       "\n",
       "   worked_last_week_worked  language_not_english  \n",
       "0                      1.0                   0.0  \n",
       "1                      1.0                   0.0  "
      ]
     },
     "execution_count": 438,
     "metadata": {},
     "output_type": "execute_result"
    }
   ],
   "source": [
    "tran_df.head(2)"
   ]
  },
  {
   "cell_type": "code",
   "execution_count": 439,
   "metadata": {},
   "outputs": [],
   "source": [
    "tran_df.reset_index(inplace=True, drop=True)\n"
   ]
  },
  {
   "cell_type": "code",
   "execution_count": 440,
   "metadata": {},
   "outputs": [],
   "source": [
    "cont.reset_index(inplace=True, drop=True)"
   ]
  },
  {
   "cell_type": "code",
   "execution_count": 441,
   "metadata": {},
   "outputs": [],
   "source": [
    "X = tran_df.join(cont)"
   ]
  },
  {
   "cell_type": "code",
   "execution_count": 442,
   "metadata": {},
   "outputs": [
    {
     "data": {
      "text/html": [
       "<div>\n",
       "<style scoped>\n",
       "    .dataframe tbody tr th:only-of-type {\n",
       "        vertical-align: middle;\n",
       "    }\n",
       "\n",
       "    .dataframe tbody tr th {\n",
       "        vertical-align: top;\n",
       "    }\n",
       "\n",
       "    .dataframe thead th {\n",
       "        text-align: right;\n",
       "    }\n",
       "</style>\n",
       "<table border=\"1\" class=\"dataframe\">\n",
       "  <thead>\n",
       "    <tr style=\"text-align: right;\">\n",
       "      <th></th>\n",
       "      <th>citizen_status_citizen_naturalized</th>\n",
       "      <th>citizen_status_noncitizen</th>\n",
       "      <th>nativity_status_native_born</th>\n",
       "      <th>marital_status_married</th>\n",
       "      <th>marital_status_never_married</th>\n",
       "      <th>marital_status_separated</th>\n",
       "      <th>marital_status_widowed</th>\n",
       "      <th>school_status_private_school</th>\n",
       "      <th>school_status_public_school</th>\n",
       "      <th>sex_M</th>\n",
       "      <th>when_last_worked_in_last_year</th>\n",
       "      <th>when_last_worked_over_five_years_ago</th>\n",
       "      <th>worked_last_week_not_reported</th>\n",
       "      <th>worked_last_week_worked</th>\n",
       "      <th>language_not_english</th>\n",
       "      <th>age</th>\n",
       "      <th>weekly_hours_worked</th>\n",
       "      <th>total_income</th>\n",
       "      <th>self_employed_income</th>\n",
       "      <th>wage_income</th>\n",
       "      <th>interest_income</th>\n",
       "      <th>other_income</th>\n",
       "      <th>race_native_american</th>\n",
       "      <th>race_asian</th>\n",
       "      <th>race_black</th>\n",
       "      <th>race_native_hawaiian</th>\n",
       "      <th>race_pacific_islander</th>\n",
       "      <th>race_white</th>\n",
       "      <th>race_other</th>\n",
       "    </tr>\n",
       "  </thead>\n",
       "  <tbody>\n",
       "    <tr>\n",
       "      <th>0</th>\n",
       "      <td>0.0</td>\n",
       "      <td>0.0</td>\n",
       "      <td>1.0</td>\n",
       "      <td>1.0</td>\n",
       "      <td>0.0</td>\n",
       "      <td>0.0</td>\n",
       "      <td>0.0</td>\n",
       "      <td>0.0</td>\n",
       "      <td>0.0</td>\n",
       "      <td>0.0</td>\n",
       "      <td>1.0</td>\n",
       "      <td>0.0</td>\n",
       "      <td>0.0</td>\n",
       "      <td>1.0</td>\n",
       "      <td>0.0</td>\n",
       "      <td>0.355263</td>\n",
       "      <td>0.151515</td>\n",
       "      <td>0.000840</td>\n",
       "      <td>0.000200</td>\n",
       "      <td>0.001584</td>\n",
       "      <td>0.000045</td>\n",
       "      <td>0.000144</td>\n",
       "      <td>0.0</td>\n",
       "      <td>0.0</td>\n",
       "      <td>0.0</td>\n",
       "      <td>0.0</td>\n",
       "      <td>0.0</td>\n",
       "      <td>1.0</td>\n",
       "      <td>0.0</td>\n",
       "    </tr>\n",
       "    <tr>\n",
       "      <th>1</th>\n",
       "      <td>0.0</td>\n",
       "      <td>0.0</td>\n",
       "      <td>1.0</td>\n",
       "      <td>1.0</td>\n",
       "      <td>0.0</td>\n",
       "      <td>0.0</td>\n",
       "      <td>0.0</td>\n",
       "      <td>0.0</td>\n",
       "      <td>0.0</td>\n",
       "      <td>1.0</td>\n",
       "      <td>1.0</td>\n",
       "      <td>0.0</td>\n",
       "      <td>0.0</td>\n",
       "      <td>1.0</td>\n",
       "      <td>0.0</td>\n",
       "      <td>0.381579</td>\n",
       "      <td>0.505051</td>\n",
       "      <td>0.170235</td>\n",
       "      <td>0.000158</td>\n",
       "      <td>0.316782</td>\n",
       "      <td>0.083329</td>\n",
       "      <td>0.000078</td>\n",
       "      <td>0.0</td>\n",
       "      <td>0.0</td>\n",
       "      <td>0.0</td>\n",
       "      <td>0.0</td>\n",
       "      <td>0.0</td>\n",
       "      <td>1.0</td>\n",
       "      <td>0.0</td>\n",
       "    </tr>\n",
       "  </tbody>\n",
       "</table>\n",
       "</div>"
      ],
      "text/plain": [
       "   citizen_status_citizen_naturalized  citizen_status_noncitizen  \\\n",
       "0                                 0.0                        0.0   \n",
       "1                                 0.0                        0.0   \n",
       "\n",
       "   nativity_status_native_born  marital_status_married  \\\n",
       "0                          1.0                     1.0   \n",
       "1                          1.0                     1.0   \n",
       "\n",
       "   marital_status_never_married  marital_status_separated  \\\n",
       "0                           0.0                       0.0   \n",
       "1                           0.0                       0.0   \n",
       "\n",
       "   marital_status_widowed  school_status_private_school  \\\n",
       "0                     0.0                           0.0   \n",
       "1                     0.0                           0.0   \n",
       "\n",
       "   school_status_public_school  sex_M  when_last_worked_in_last_year  \\\n",
       "0                          0.0    0.0                            1.0   \n",
       "1                          0.0    1.0                            1.0   \n",
       "\n",
       "   when_last_worked_over_five_years_ago  worked_last_week_not_reported  \\\n",
       "0                                   0.0                            0.0   \n",
       "1                                   0.0                            0.0   \n",
       "\n",
       "   worked_last_week_worked  language_not_english       age  \\\n",
       "0                      1.0                   0.0  0.355263   \n",
       "1                      1.0                   0.0  0.381579   \n",
       "\n",
       "   weekly_hours_worked  total_income  self_employed_income  wage_income  \\\n",
       "0             0.151515      0.000840              0.000200     0.001584   \n",
       "1             0.505051      0.170235              0.000158     0.316782   \n",
       "\n",
       "   interest_income  other_income  race_native_american  race_asian  \\\n",
       "0         0.000045      0.000144                   0.0         0.0   \n",
       "1         0.083329      0.000078                   0.0         0.0   \n",
       "\n",
       "   race_black  race_native_hawaiian  race_pacific_islander  race_white  \\\n",
       "0         0.0                   0.0                    0.0         1.0   \n",
       "1         0.0                   0.0                    0.0         1.0   \n",
       "\n",
       "   race_other  \n",
       "0         0.0  \n",
       "1         0.0  "
      ]
     },
     "execution_count": 442,
     "metadata": {},
     "output_type": "execute_result"
    }
   ],
   "source": [
    "X.head(2)"
   ]
  },
  {
   "cell_type": "code",
   "execution_count": null,
   "metadata": {},
   "outputs": [],
   "source": []
  },
  {
   "cell_type": "markdown",
   "metadata": {},
   "source": [
    "## Train test split"
   ]
  },
  {
   "cell_type": "code",
   "execution_count": 443,
   "metadata": {},
   "outputs": [],
   "source": [
    "from sklearn.model_selection import train_test_split\n",
    "\n",
    "X_train, X_test, y_train, y_test = train_test_split(X, y, test_size=0.25, random_state=28)"
   ]
  },
  {
   "cell_type": "code",
   "execution_count": 444,
   "metadata": {},
   "outputs": [
    {
     "data": {
      "text/plain": [
       "0    0.922232\n",
       "1    0.077768\n",
       "Name: uninsured, dtype: float64"
      ]
     },
     "execution_count": 444,
     "metadata": {},
     "output_type": "execute_result"
    }
   ],
   "source": [
    "y_train.value_counts(normalize=True)"
   ]
  },
  {
   "cell_type": "code",
   "execution_count": null,
   "metadata": {},
   "outputs": [],
   "source": []
  },
  {
   "cell_type": "markdown",
   "metadata": {},
   "source": [
    "### Logistic Regression"
   ]
  },
  {
   "cell_type": "code",
   "execution_count": 446,
   "metadata": {},
   "outputs": [
    {
     "name": "stderr",
     "output_type": "stream",
     "text": [
      "/opt/anaconda3/lib/python3.7/site-packages/sklearn/linear_model/_logistic.py:940: ConvergenceWarning: lbfgs failed to converge (status=1):\n",
      "STOP: TOTAL NO. of ITERATIONS REACHED LIMIT.\n",
      "\n",
      "Increase the number of iterations (max_iter) or scale the data as shown in:\n",
      "    https://scikit-learn.org/stable/modules/preprocessing.html\n",
      "Please also refer to the documentation for alternative solver options:\n",
      "    https://scikit-learn.org/stable/modules/linear_model.html#logistic-regression\n",
      "  extra_warning_msg=_LOGISTIC_SOLVER_CONVERGENCE_MSG)\n"
     ]
    }
   ],
   "source": [
    "from sklearn.linear_model import LogisticRegression\n",
    "\n",
    "logreg = LogisticRegression( )\n",
    "\n",
    "model = logreg.fit(X_train, y_train)"
   ]
  },
  {
   "cell_type": "code",
   "execution_count": 447,
   "metadata": {},
   "outputs": [
    {
     "data": {
      "text/plain": [
       "0.9248993288590605"
      ]
     },
     "execution_count": 447,
     "metadata": {},
     "output_type": "execute_result"
    }
   ],
   "source": [
    "model.score(X_test, y_test)"
   ]
  },
  {
   "cell_type": "code",
   "execution_count": 448,
   "metadata": {},
   "outputs": [],
   "source": [
    "y_pred = logreg.predict(X_test)"
   ]
  },
  {
   "cell_type": "markdown",
   "metadata": {},
   "source": [
    "## to predict if a given individual is uninsured or not (health insurance)"
   ]
  },
  {
   "cell_type": "code",
   "execution_count": 471,
   "metadata": {},
   "outputs": [
    {
     "name": "stdout",
     "output_type": "stream",
     "text": [
      "[[13682    74]\n",
      " [ 1045    99]]\n"
     ]
    }
   ],
   "source": [
    "confusion = metrics.confusion_matrix(y_test, y_pred)\n",
    "print(confusion)\n",
    "\n",
    "#[row, column]\n",
    "TP = confusion[1, 1]\n",
    "TN = confusion[0, 0]\n",
    "FP = confusion[0, 1]\n",
    "FN = confusion[1, 0]"
   ]
  },
  {
   "cell_type": "markdown",
   "metadata": {},
   "source": [
    " True positive  = 13677\n",
    " \n",
    " \n",
    " False positive = 75\n",
    "\n",
    "\n",
    "False Negative = 1040\n",
    "\n",
    "\n",
    "True Negative 104"
   ]
  },
  {
   "cell_type": "code",
   "execution_count": 450,
   "metadata": {},
   "outputs": [],
   "source": [
    "coef = model.coef_.reshape(-1)"
   ]
  },
  {
   "cell_type": "code",
   "execution_count": null,
   "metadata": {},
   "outputs": [],
   "source": []
  },
  {
   "cell_type": "code",
   "execution_count": 472,
   "metadata": {},
   "outputs": [
    {
     "name": "stdout",
     "output_type": "stream",
     "text": [
      "True [0 0 1 0 0 0 0 0 0 0 0 1 0 0 0 0 0 0 0 0 0 0 0 0 0]\n",
      "Pred [0 0 0 0 0 0 0 0 0 0 0 0 0 0 0 1 0 0 0 0 0 0 0 0 0]\n"
     ]
    }
   ],
   "source": [
    "print('True', y_test.values[0:25])\n",
    "print('Pred', y_pred[0:25])"
   ]
  },
  {
   "cell_type": "code",
   "execution_count": 473,
   "metadata": {},
   "outputs": [
    {
     "name": "stdout",
     "output_type": "stream",
     "text": [
      "0.9248993288590605\n",
      "0.9248993288590605\n"
     ]
    }
   ],
   "source": [
    "print((TP + TN) / float(TP + TN + FP + FN))\n",
    "\n",
    "print(metrics.accuracy_score(y_test, y_pred))"
   ]
  },
  {
   "cell_type": "code",
   "execution_count": 474,
   "metadata": {},
   "outputs": [
    {
     "name": "stdout",
     "output_type": "stream",
     "text": [
      "0.0751006711409396\n",
      "0.07510067114093955\n"
     ]
    }
   ],
   "source": [
    "classification_error = (FP + FN) / float(TP + TN + FP + FN)\n",
    "\n",
    "print(classification_error)\n",
    "print(1 - metrics.accuracy_score(y_test, y_pred))"
   ]
  },
  {
   "cell_type": "code",
   "execution_count": 479,
   "metadata": {},
   "outputs": [
    {
     "name": "stdout",
     "output_type": "stream",
     "text": [
      "0.08653846153846154\n",
      "0.08653846153846154\n"
     ]
    }
   ],
   "source": [
    "sensitivity = TP / float(FN + TP)\n",
    "\n",
    "print(sensitivity)\n",
    "print(metrics.recall_score(y_test, y_pred))"
   ]
  },
  {
   "cell_type": "code",
   "execution_count": 480,
   "metadata": {},
   "outputs": [
    {
     "name": "stdout",
     "output_type": "stream",
     "text": [
      "0.9946205292236115\n"
     ]
    }
   ],
   "source": [
    "specificity = TN / (TN + FP)\n",
    "\n",
    "print(specificity)"
   ]
  },
  {
   "cell_type": "markdown",
   "metadata": {},
   "source": [
    "## False Positive Rate: When the actual value is negative, how often is the prediction incorrect?"
   ]
  },
  {
   "cell_type": "code",
   "execution_count": 483,
   "metadata": {},
   "outputs": [
    {
     "name": "stdout",
     "output_type": "stream",
     "text": [
      "0.005379470776388485\n",
      "0.005379470776388451\n"
     ]
    }
   ],
   "source": [
    "false_positive_rate = FP / float(TN + FP)\n",
    "\n",
    "print(false_positive_rate)\n",
    "print(1 - specificity)"
   ]
  },
  {
   "cell_type": "markdown",
   "metadata": {},
   "source": [
    "## Precision: When a positive value is predicted, how often is the prediction correct?\n",
    "\n",
    "### How \"precise\" is the classifier when predicting positive instances?"
   ]
  },
  {
   "cell_type": "code",
   "execution_count": 484,
   "metadata": {},
   "outputs": [
    {
     "name": "stdout",
     "output_type": "stream",
     "text": [
      "0.5722543352601156\n",
      "0.5722543352601156\n"
     ]
    }
   ],
   "source": [
    "precision = TP / float(TP + FP)\n",
    "\n",
    "print(precision)\n",
    "print(metrics.precision_score(y_test, y_pred))"
   ]
  },
  {
   "cell_type": "code",
   "execution_count": 485,
   "metadata": {},
   "outputs": [
    {
     "data": {
      "text/plain": [
       "array([0, 0, 0, 0, 0, 0, 0, 0, 0, 0])"
      ]
     },
     "execution_count": 485,
     "metadata": {},
     "output_type": "execute_result"
    }
   ],
   "source": [
    "logreg.predict(X_test)[0:10]"
   ]
  },
  {
   "cell_type": "code",
   "execution_count": 571,
   "metadata": {},
   "outputs": [
    {
     "data": {
      "text/plain": [
       "array([0, 0, 0, ..., 0, 0, 0])"
      ]
     },
     "execution_count": 571,
     "metadata": {},
     "output_type": "execute_result"
    }
   ],
   "source": [
    "logreg.predict_proba(new)\n",
    "logreg.predict(new)\n"
   ]
  },
  {
   "cell_type": "code",
   "execution_count": 502,
   "metadata": {},
   "outputs": [
    {
     "data": {
      "text/plain": [
       "array([[0.84732035, 0.15267965],\n",
       "       [0.87373017, 0.12626983],\n",
       "       [0.9537671 , 0.0462329 ],\n",
       "       [0.97365704, 0.02634296],\n",
       "       [0.93489221, 0.06510779],\n",
       "       [0.92529313, 0.07470687],\n",
       "       [0.95494038, 0.04505962],\n",
       "       [0.95694298, 0.04305702],\n",
       "       [0.95435817, 0.04564183],\n",
       "       [0.98383075, 0.01616925]])"
      ]
     },
     "execution_count": 502,
     "metadata": {},
     "output_type": "execute_result"
    }
   ],
   "source": [
    "logreg.predict_proba(new)[0:10]"
   ]
  },
  {
   "cell_type": "markdown",
   "metadata": {},
   "source": [
    "### There is a 0.5 classification threshold\n",
    "\n",
    "### Class 1 is predicted if probability > 0.5\n",
    "### Class 0 is predicted if probability < 0.5"
   ]
  },
  {
   "cell_type": "code",
   "execution_count": 554,
   "metadata": {},
   "outputs": [
    {
     "data": {
      "text/plain": [
       "array([0.15267965, 0.12626983, 0.0462329 , 0.02634296, 0.06510779,\n",
       "       0.07470687, 0.04505962, 0.04305702, 0.04564183, 0.01616925])"
      ]
     },
     "execution_count": 554,
     "metadata": {},
     "output_type": "execute_result"
    }
   ],
   "source": [
    "# print the first 10 predicted probabilities for class 1\n",
    "logreg.predict_proba(new)[0:10, 1]"
   ]
  },
  {
   "cell_type": "code",
   "execution_count": 555,
   "metadata": {},
   "outputs": [],
   "source": [
    "y_pred_prob = logreg.predict_proba(new)[:, 1]"
   ]
  },
  {
   "cell_type": "code",
   "execution_count": 556,
   "metadata": {},
   "outputs": [
    {
     "data": {
      "text/plain": [
       "(20172,)"
      ]
     },
     "execution_count": 556,
     "metadata": {},
     "output_type": "execute_result"
    }
   ],
   "source": [
    "y_pred_prob.shape"
   ]
  },
  {
   "cell_type": "code",
   "execution_count": 557,
   "metadata": {},
   "outputs": [],
   "source": [
    "%matplotlib inline\n",
    "import matplotlib.pyplot as plt\n",
    "\n",
    "# adjust the font size \n",
    "plt.rcParams['font.size'] = 12"
   ]
  },
  {
   "cell_type": "code",
   "execution_count": 558,
   "metadata": {},
   "outputs": [
    {
     "data": {
      "text/plain": [
       "Text(0, 0.5, 'Frequency')"
      ]
     },
     "execution_count": 558,
     "metadata": {},
     "output_type": "execute_result"
    },
    {
     "data": {
      "image/png": "[encoded data removed]",
      "text/plain": [
       "<Figure size 432x288 with 1 Axes>"
      ]
     },
     "metadata": {
      "needs_background": "light"
     },
     "output_type": "display_data"
    }
   ],
   "source": [
    "#histogram of predicted probabilities\n",
    "\n",
    "# 8 bins\n",
    "plt.hist(y_pred_prob, bins=10)\n",
    "\n",
    "# x-axis limit from 0 to 1\n",
    "plt.xlim(0,1)\n",
    "plt.title('Histogram of predicted probabilities')\n",
    "plt.xlabel('Predicted probability of diabetes')\n",
    "plt.ylabel('Frequency')"
   ]
  },
  {
   "cell_type": "code",
   "execution_count": 562,
   "metadata": {},
   "outputs": [
    {
     "data": {
      "text/plain": [
       "array([0.15267965, 0.12626983, 0.0462329 , 0.02634296, 0.06510779,\n",
       "       0.07470687, 0.04505962, 0.04305702, 0.04564183, 0.01616925])"
      ]
     },
     "execution_count": 562,
     "metadata": {},
     "output_type": "execute_result"
    }
   ],
   "source": [
    "## print the first 10 predicted probabilities for class 1\n",
    "\n",
    "logreg.predict_proba(new)[0:10, 1]"
   ]
  },
  {
   "cell_type": "code",
   "execution_count": 563,
   "metadata": {},
   "outputs": [],
   "source": [
    "y_pred_prob = y_pred_prob.reshape(-1, 1)"
   ]
  },
  {
   "cell_type": "code",
   "execution_count": 564,
   "metadata": {},
   "outputs": [],
   "source": [
    "from sklearn.preprocessing import binarize\n",
    "# it will return 1 for all values above 0.3 and 0 otherwise\n",
    "# results are 2D so we slice out the first column\n",
    "y_pred_class = binarize(y_pred_prob, 0.3)\n"
   ]
  },
  {
   "cell_type": "code",
   "execution_count": 566,
   "metadata": {},
   "outputs": [
    {
     "data": {
      "text/plain": [
       "array([[0.15267965],\n",
       "       [0.12626983],\n",
       "       [0.0462329 ],\n",
       "       [0.02634296],\n",
       "       [0.06510779],\n",
       "       [0.07470687],\n",
       "       [0.04505962],\n",
       "       [0.04305702],\n",
       "       [0.04564183],\n",
       "       [0.01616925]])"
      ]
     },
     "execution_count": 566,
     "metadata": {},
     "output_type": "execute_result"
    }
   ],
   "source": [
    "y_pred_prob[0:10]"
   ]
  },
  {
   "cell_type": "code",
   "execution_count": 565,
   "metadata": {},
   "outputs": [
    {
     "data": {
      "text/plain": [
       "array([[0.],\n",
       "       [0.],\n",
       "       [0.],\n",
       "       [0.],\n",
       "       [0.],\n",
       "       [0.],\n",
       "       [0.],\n",
       "       [0.],\n",
       "       [0.],\n",
       "       [0.]])"
      ]
     },
     "execution_count": 565,
     "metadata": {},
     "output_type": "execute_result"
    }
   ],
   "source": [
    "# print the first 10 predicted classes with the lower threshold\n",
    "y_pred_class[0:10]"
   ]
  },
  {
   "cell_type": "code",
   "execution_count": 567,
   "metadata": {},
   "outputs": [
    {
     "name": "stdout",
     "output_type": "stream",
     "text": [
      "[[13682    74]\n",
      " [ 1045    99]]\n"
     ]
    }
   ],
   "source": [
    "print(confusion)"
   ]
  },
  {
   "cell_type": "code",
   "execution_count": 569,
   "metadata": {},
   "outputs": [
    {
     "ename": "ValueError",
     "evalue": "Classification metrics can't handle a mix of continuous-multioutput and binary targets",
     "output_type": "error",
     "traceback": [
      "\u001b[0;31m---------------------------------------------------------------------------\u001b[0m",
      "\u001b[0;31mValueError\u001b[0m                                Traceback (most recent call last)",
      "\u001b[0;32m<ipython-input-569-bb46e59d59e9>\u001b[0m in \u001b[0;36m<module>\u001b[0;34m\u001b[0m\n\u001b[1;32m      1\u001b[0m \u001b[0;31m# new confusion matrix (threshold of 0.3)\u001b[0m\u001b[0;34m\u001b[0m\u001b[0;34m\u001b[0m\u001b[0m\n\u001b[0;32m----> 2\u001b[0;31m \u001b[0mprint\u001b[0m\u001b[0;34m(\u001b[0m\u001b[0mmetrics\u001b[0m\u001b[0;34m.\u001b[0m\u001b[0mconfusion_matrix\u001b[0m\u001b[0;34m(\u001b[0m\u001b[0mnew\u001b[0m\u001b[0;34m,\u001b[0m \u001b[0my_pred_class\u001b[0m\u001b[0;34m)\u001b[0m\u001b[0;34m)\u001b[0m\u001b[0;34m\u001b[0m\u001b[0m\n\u001b[0m",
      "\u001b[0;32m/opt/anaconda3/lib/python3.7/site-packages/sklearn/metrics/_classification.py\u001b[0m in \u001b[0;36mconfusion_matrix\u001b[0;34m(y_true, y_pred, labels, sample_weight, normalize)\u001b[0m\n\u001b[1;32m    266\u001b[0m \u001b[0;34m\u001b[0m\u001b[0m\n\u001b[1;32m    267\u001b[0m     \"\"\"\n\u001b[0;32m--> 268\u001b[0;31m     \u001b[0my_type\u001b[0m\u001b[0;34m,\u001b[0m \u001b[0my_true\u001b[0m\u001b[0;34m,\u001b[0m \u001b[0my_pred\u001b[0m \u001b[0;34m=\u001b[0m \u001b[0m_check_targets\u001b[0m\u001b[0;34m(\u001b[0m\u001b[0my_true\u001b[0m\u001b[0;34m,\u001b[0m \u001b[0my_pred\u001b[0m\u001b[0;34m)\u001b[0m\u001b[0;34m\u001b[0m\u001b[0m\n\u001b[0m\u001b[1;32m    269\u001b[0m     \u001b[0;32mif\u001b[0m \u001b[0my_type\u001b[0m \u001b[0;32mnot\u001b[0m \u001b[0;32min\u001b[0m \u001b[0;34m(\u001b[0m\u001b[0;34m\"binary\"\u001b[0m\u001b[0;34m,\u001b[0m \u001b[0;34m\"multiclass\"\u001b[0m\u001b[0;34m)\u001b[0m\u001b[0;34m:\u001b[0m\u001b[0;34m\u001b[0m\u001b[0m\n\u001b[1;32m    270\u001b[0m         \u001b[0;32mraise\u001b[0m \u001b[0mValueError\u001b[0m\u001b[0;34m(\u001b[0m\u001b[0;34m\"%s is not supported\"\u001b[0m \u001b[0;34m%\u001b[0m \u001b[0my_type\u001b[0m\u001b[0;34m)\u001b[0m\u001b[0;34m\u001b[0m\u001b[0m\n",
      "\u001b[0;32m/opt/anaconda3/lib/python3.7/site-packages/sklearn/metrics/_classification.py\u001b[0m in \u001b[0;36m_check_targets\u001b[0;34m(y_true, y_pred)\u001b[0m\n\u001b[1;32m     88\u001b[0m     \u001b[0;32mif\u001b[0m \u001b[0mlen\u001b[0m\u001b[0;34m(\u001b[0m\u001b[0my_type\u001b[0m\u001b[0;34m)\u001b[0m \u001b[0;34m>\u001b[0m \u001b[0;36m1\u001b[0m\u001b[0;34m:\u001b[0m\u001b[0;34m\u001b[0m\u001b[0m\n\u001b[1;32m     89\u001b[0m         raise ValueError(\"Classification metrics can't handle a mix of {0} \"\n\u001b[0;32m---> 90\u001b[0;31m                          \"and {1} targets\".format(type_true, type_pred))\n\u001b[0m\u001b[1;32m     91\u001b[0m \u001b[0;34m\u001b[0m\u001b[0m\n\u001b[1;32m     92\u001b[0m     \u001b[0;31m# We can't have more than one value on y_type => The set is no more needed\u001b[0m\u001b[0;34m\u001b[0m\u001b[0;34m\u001b[0m\u001b[0m\n",
      "\u001b[0;31mValueError\u001b[0m: Classification metrics can't handle a mix of continuous-multioutput and binary targets"
     ]
    }
   ],
   "source": [
    "# new confusion matrix (threshold of 0.3)\n",
    "print(metrics.confusion_matrix(new, y_pred_class))"
   ]
  },
  {
   "cell_type": "markdown",
   "metadata": {},
   "source": [
    "Recall is a metric that quantifies the number of correct positive predictions made out of all positive predictions that could have been made.\n",
    "\n",
    "Unlike precision that only comments on the correct positive predictions out of all positive predictions, recall provides an indication of missed positive predictions.\n",
    "\n",
    "In this way, recall provides some notion of the coverage of the positive class."
   ]
  },
  {
   "cell_type": "markdown",
   "metadata": {},
   "source": [
    "## precision is \"how useful the search results are\", and recall is \"how complete the results are\"."
   ]
  },
  {
   "cell_type": "markdown",
   "metadata": {},
   "source": [
    "F1 score - F1 Score is the weighted average of Precision and Recall. Therefore, this score takes both false positives and false negatives into account. Intuitively it is not as easy to understand as accuracy, but F1 is usually more useful than accuracy, especially if you have an uneven class distribution. Accuracy works best if false positives and false negatives have similar cost. If the cost of false positives and false negatives are very different, it’s better to look at both Precision and Recall. "
   ]
  },
  {
   "cell_type": "markdown",
   "metadata": {},
   "source": [
    "## Precision: Appropriate when minimizing false positives is the focus.\n",
    "## Recall: Appropriate when minimizing false negatives is the focus."
   ]
  },
  {
   "cell_type": "code",
   "execution_count": 455,
   "metadata": {},
   "outputs": [
    {
     "data": {
      "text/html": [
       "<div>\n",
       "<style scoped>\n",
       "    .dataframe tbody tr th:only-of-type {\n",
       "        vertical-align: middle;\n",
       "    }\n",
       "\n",
       "    .dataframe tbody tr th {\n",
       "        vertical-align: top;\n",
       "    }\n",
       "\n",
       "    .dataframe thead th {\n",
       "        text-align: right;\n",
       "    }\n",
       "</style>\n",
       "<table border=\"1\" class=\"dataframe\">\n",
       "  <thead>\n",
       "    <tr style=\"text-align: right;\">\n",
       "      <th></th>\n",
       "      <th>coef</th>\n",
       "      <th>features</th>\n",
       "    </tr>\n",
       "  </thead>\n",
       "  <tbody>\n",
       "    <tr>\n",
       "      <th>0</th>\n",
       "      <td>citizen_status_citizen_naturalized</td>\n",
       "      <td>-0.672021</td>\n",
       "    </tr>\n",
       "    <tr>\n",
       "      <th>1</th>\n",
       "      <td>citizen_status_noncitizen</td>\n",
       "      <td>0.936262</td>\n",
       "    </tr>\n",
       "    <tr>\n",
       "      <th>2</th>\n",
       "      <td>nativity_status_native_born</td>\n",
       "      <td>-0.731879</td>\n",
       "    </tr>\n",
       "    <tr>\n",
       "      <th>3</th>\n",
       "      <td>marital_status_married</td>\n",
       "      <td>-0.602316</td>\n",
       "    </tr>\n",
       "    <tr>\n",
       "      <th>4</th>\n",
       "      <td>marital_status_never_married</td>\n",
       "      <td>-0.048148</td>\n",
       "    </tr>\n",
       "  </tbody>\n",
       "</table>\n",
       "</div>"
      ],
      "text/plain": [
       "                                 coef  features\n",
       "0  citizen_status_citizen_naturalized -0.672021\n",
       "1           citizen_status_noncitizen  0.936262\n",
       "2         nativity_status_native_born -0.731879\n",
       "3              marital_status_married -0.602316\n",
       "4        marital_status_never_married -0.048148"
      ]
     },
     "execution_count": 455,
     "metadata": {},
     "output_type": "execute_result"
    }
   ],
   "source": [
    "df_coef = pd.DataFrame(X_train.columns)\n",
    "\n",
    "df_coef['features'] = coef\n",
    "\n",
    "df_coef.columns = ['coef', 'features']\n",
    "\n",
    "#df['features'] = df_coef.features.sort_values(ascending=False)\n",
    "\n",
    "df_coef.head()"
   ]
  },
  {
   "cell_type": "code",
   "execution_count": 456,
   "metadata": {},
   "outputs": [
    {
     "data": {
      "image/png": "[encoded data removed]",
      "text/plain": [
       "<Figure size 2160x2160 with 1 Axes>"
      ]
     },
     "metadata": {
      "needs_background": "light"
     },
     "output_type": "display_data"
    }
   ],
   "source": [
    "plt.figure(figsize=(30,30))\n",
    "sns.barplot(x=coef, y=X_train.columns)\n",
    "plt.yticks(fontsize=40)\n",
    "plt.show()"
   ]
  },
  {
   "cell_type": "markdown",
   "metadata": {},
   "source": [
    "0: Has health insurance.\n",
    "\n",
    "\n",
    "1: Does not have health insurance.\n",
    "\n",
    "A negative coefficient suggests that as the independent variable increases, the dependent variable tends to decrease"
   ]
  },
  {
   "cell_type": "code",
   "execution_count": null,
   "metadata": {},
   "outputs": [],
   "source": []
  },
  {
   "cell_type": "code",
   "execution_count": null,
   "metadata": {},
   "outputs": [],
   "source": []
  },
  {
   "cell_type": "code",
   "execution_count": null,
   "metadata": {},
   "outputs": [],
   "source": []
  },
  {
   "cell_type": "code",
   "execution_count": null,
   "metadata": {},
   "outputs": [],
   "source": []
  },
  {
   "cell_type": "code",
   "execution_count": null,
   "metadata": {},
   "outputs": [],
   "source": []
  },
  {
   "cell_type": "code",
   "execution_count": null,
   "metadata": {},
   "outputs": [],
   "source": []
  },
  {
   "cell_type": "code",
   "execution_count": null,
   "metadata": {},
   "outputs": [],
   "source": []
  },
  {
   "cell_type": "code",
   "execution_count": null,
   "metadata": {},
   "outputs": [],
   "source": []
  },
  {
   "cell_type": "code",
   "execution_count": null,
   "metadata": {},
   "outputs": [],
   "source": []
  },
  {
   "cell_type": "code",
   "execution_count": null,
   "metadata": {},
   "outputs": [],
   "source": []
  },
  {
   "cell_type": "code",
   "execution_count": 488,
   "metadata": {},
   "outputs": [
    {
     "data": {
      "text/html": [
       "<div>\n",
       "<style scoped>\n",
       "    .dataframe tbody tr th:only-of-type {\n",
       "        vertical-align: middle;\n",
       "    }\n",
       "\n",
       "    .dataframe tbody tr th {\n",
       "        vertical-align: top;\n",
       "    }\n",
       "\n",
       "    .dataframe thead th {\n",
       "        text-align: right;\n",
       "    }\n",
       "</style>\n",
       "<table border=\"1\" class=\"dataframe\">\n",
       "  <thead>\n",
       "    <tr style=\"text-align: right;\">\n",
       "      <th></th>\n",
       "      <th>person_id</th>\n",
       "      <th>age</th>\n",
       "      <th>citizen_status</th>\n",
       "      <th>nativity_status</th>\n",
       "      <th>weekly_hours_worked</th>\n",
       "      <th>total_income</th>\n",
       "      <th>self_employed_income</th>\n",
       "      <th>wage_income</th>\n",
       "      <th>interest_income</th>\n",
       "      <th>other_income</th>\n",
       "      <th>marital_status</th>\n",
       "      <th>school_status</th>\n",
       "      <th>sex</th>\n",
       "      <th>when_last_worked</th>\n",
       "      <th>worked_last_week</th>\n",
       "      <th>language</th>\n",
       "      <th>race_native_american</th>\n",
       "      <th>race_asian</th>\n",
       "      <th>race_black</th>\n",
       "      <th>race_native_hawaiian</th>\n",
       "      <th>race_pacific_islander</th>\n",
       "      <th>race_white</th>\n",
       "      <th>race_other</th>\n",
       "      <th>household_id</th>\n",
       "    </tr>\n",
       "  </thead>\n",
       "  <tbody>\n",
       "    <tr>\n",
       "      <th>0</th>\n",
       "      <td>12</td>\n",
       "      <td>28</td>\n",
       "      <td>citizen_birth</td>\n",
       "      <td>native_born</td>\n",
       "      <td>45</td>\n",
       "      <td>15254.0</td>\n",
       "      <td>15081.0</td>\n",
       "      <td>82.0</td>\n",
       "      <td>16.0</td>\n",
       "      <td>75.0</td>\n",
       "      <td>never_married</td>\n",
       "      <td>not_student</td>\n",
       "      <td>MALE</td>\n",
       "      <td>in_last_year</td>\n",
       "      <td>worked</td>\n",
       "      <td>English</td>\n",
       "      <td>0</td>\n",
       "      <td>0</td>\n",
       "      <td>0</td>\n",
       "      <td>0</td>\n",
       "      <td>0</td>\n",
       "      <td>1</td>\n",
       "      <td>0</td>\n",
       "      <td>6</td>\n",
       "    </tr>\n",
       "    <tr>\n",
       "      <th>1</th>\n",
       "      <td>13</td>\n",
       "      <td>40</td>\n",
       "      <td>citizen_birth</td>\n",
       "      <td>native_born</td>\n",
       "      <td>32</td>\n",
       "      <td>10291.0</td>\n",
       "      <td>45.0</td>\n",
       "      <td>9068.0</td>\n",
       "      <td>57.0</td>\n",
       "      <td>1121.0</td>\n",
       "      <td>divorced</td>\n",
       "      <td>not_student</td>\n",
       "      <td>MALE</td>\n",
       "      <td>in_last_year</td>\n",
       "      <td>worked</td>\n",
       "      <td>English</td>\n",
       "      <td>0</td>\n",
       "      <td>0</td>\n",
       "      <td>0</td>\n",
       "      <td>0</td>\n",
       "      <td>0</td>\n",
       "      <td>1</td>\n",
       "      <td>0</td>\n",
       "      <td>7</td>\n",
       "    </tr>\n",
       "  </tbody>\n",
       "</table>\n",
       "</div>"
      ],
      "text/plain": [
       "   person_id  age citizen_status nativity_status  weekly_hours_worked  \\\n",
       "0         12   28  citizen_birth     native_born                   45   \n",
       "1         13   40  citizen_birth     native_born                   32   \n",
       "\n",
       "   total_income  self_employed_income  wage_income  interest_income  \\\n",
       "0       15254.0               15081.0         82.0             16.0   \n",
       "1       10291.0                  45.0       9068.0             57.0   \n",
       "\n",
       "   other_income marital_status school_status   sex when_last_worked  \\\n",
       "0          75.0  never_married   not_student  MALE     in_last_year   \n",
       "1        1121.0       divorced   not_student  MALE     in_last_year   \n",
       "\n",
       "  worked_last_week language  race_native_american  race_asian  race_black  \\\n",
       "0           worked  English                     0           0           0   \n",
       "1           worked  English                     0           0           0   \n",
       "\n",
       "   race_native_hawaiian  race_pacific_islander  race_white  race_other  \\\n",
       "0                     0                      0           1           0   \n",
       "1                     0                      0           1           0   \n",
       "\n",
       "   household_id  \n",
       "0             6  \n",
       "1             7  "
      ]
     },
     "execution_count": 488,
     "metadata": {},
     "output_type": "execute_result"
    }
   ],
   "source": [
    "unlabeled.head(2)"
   ]
  },
  {
   "cell_type": "code",
   "execution_count": 489,
   "metadata": {},
   "outputs": [
    {
     "data": {
      "text/html": [
       "<div>\n",
       "<style scoped>\n",
       "    .dataframe tbody tr th:only-of-type {\n",
       "        vertical-align: middle;\n",
       "    }\n",
       "\n",
       "    .dataframe tbody tr th {\n",
       "        vertical-align: top;\n",
       "    }\n",
       "\n",
       "    .dataframe thead th {\n",
       "        text-align: right;\n",
       "    }\n",
       "</style>\n",
       "<table border=\"1\" class=\"dataframe\">\n",
       "  <thead>\n",
       "    <tr style=\"text-align: right;\">\n",
       "      <th></th>\n",
       "      <th>person_id</th>\n",
       "      <th>age</th>\n",
       "      <th>citizen_status</th>\n",
       "      <th>nativity_status</th>\n",
       "      <th>weekly_hours_worked</th>\n",
       "      <th>total_income</th>\n",
       "      <th>self_employed_income</th>\n",
       "      <th>wage_income</th>\n",
       "      <th>interest_income</th>\n",
       "      <th>other_income</th>\n",
       "      <th>marital_status</th>\n",
       "      <th>school_status</th>\n",
       "      <th>sex</th>\n",
       "      <th>when_last_worked</th>\n",
       "      <th>worked_last_week</th>\n",
       "      <th>language</th>\n",
       "      <th>race_native_american</th>\n",
       "      <th>race_asian</th>\n",
       "      <th>race_black</th>\n",
       "      <th>race_native_hawaiian</th>\n",
       "      <th>race_pacific_islander</th>\n",
       "      <th>race_white</th>\n",
       "      <th>race_other</th>\n",
       "      <th>household_id</th>\n",
       "    </tr>\n",
       "  </thead>\n",
       "  <tbody>\n",
       "    <tr>\n",
       "      <th>0</th>\n",
       "      <td>12</td>\n",
       "      <td>28</td>\n",
       "      <td>citizen_birth</td>\n",
       "      <td>native_born</td>\n",
       "      <td>45</td>\n",
       "      <td>15254.0</td>\n",
       "      <td>15081.0</td>\n",
       "      <td>82.0</td>\n",
       "      <td>16.0</td>\n",
       "      <td>75.0</td>\n",
       "      <td>never_married</td>\n",
       "      <td>not_student</td>\n",
       "      <td>M</td>\n",
       "      <td>in_last_year</td>\n",
       "      <td>worked</td>\n",
       "      <td>English</td>\n",
       "      <td>0</td>\n",
       "      <td>0</td>\n",
       "      <td>0</td>\n",
       "      <td>0</td>\n",
       "      <td>0</td>\n",
       "      <td>1</td>\n",
       "      <td>0</td>\n",
       "      <td>6</td>\n",
       "    </tr>\n",
       "    <tr>\n",
       "      <th>1</th>\n",
       "      <td>13</td>\n",
       "      <td>40</td>\n",
       "      <td>citizen_birth</td>\n",
       "      <td>native_born</td>\n",
       "      <td>32</td>\n",
       "      <td>10291.0</td>\n",
       "      <td>45.0</td>\n",
       "      <td>9068.0</td>\n",
       "      <td>57.0</td>\n",
       "      <td>1121.0</td>\n",
       "      <td>divorced</td>\n",
       "      <td>not_student</td>\n",
       "      <td>M</td>\n",
       "      <td>in_last_year</td>\n",
       "      <td>worked</td>\n",
       "      <td>English</td>\n",
       "      <td>0</td>\n",
       "      <td>0</td>\n",
       "      <td>0</td>\n",
       "      <td>0</td>\n",
       "      <td>0</td>\n",
       "      <td>1</td>\n",
       "      <td>0</td>\n",
       "      <td>7</td>\n",
       "    </tr>\n",
       "    <tr>\n",
       "      <th>2</th>\n",
       "      <td>22</td>\n",
       "      <td>68</td>\n",
       "      <td>citizen_birth</td>\n",
       "      <td>native_born</td>\n",
       "      <td>0</td>\n",
       "      <td>13194.0</td>\n",
       "      <td>80.0</td>\n",
       "      <td>34.0</td>\n",
       "      <td>69.0</td>\n",
       "      <td>13011.0</td>\n",
       "      <td>married</td>\n",
       "      <td>not_student</td>\n",
       "      <td>M</td>\n",
       "      <td>over_five_years_ago</td>\n",
       "      <td>did_not_work</td>\n",
       "      <td>English</td>\n",
       "      <td>0</td>\n",
       "      <td>0</td>\n",
       "      <td>0</td>\n",
       "      <td>0</td>\n",
       "      <td>0</td>\n",
       "      <td>1</td>\n",
       "      <td>0</td>\n",
       "      <td>13</td>\n",
       "    </tr>\n",
       "    <tr>\n",
       "      <th>3</th>\n",
       "      <td>23</td>\n",
       "      <td>64</td>\n",
       "      <td>citizen_birth</td>\n",
       "      <td>native_born</td>\n",
       "      <td>40</td>\n",
       "      <td>30194.0</td>\n",
       "      <td>33.0</td>\n",
       "      <td>30094.0</td>\n",
       "      <td>37.0</td>\n",
       "      <td>30.0</td>\n",
       "      <td>married</td>\n",
       "      <td>not_student</td>\n",
       "      <td>F</td>\n",
       "      <td>in_last_year</td>\n",
       "      <td>worked</td>\n",
       "      <td>English</td>\n",
       "      <td>0</td>\n",
       "      <td>0</td>\n",
       "      <td>0</td>\n",
       "      <td>0</td>\n",
       "      <td>0</td>\n",
       "      <td>1</td>\n",
       "      <td>0</td>\n",
       "      <td>13</td>\n",
       "    </tr>\n",
       "    <tr>\n",
       "      <th>4</th>\n",
       "      <td>25</td>\n",
       "      <td>29</td>\n",
       "      <td>citizen_birth</td>\n",
       "      <td>native_born</td>\n",
       "      <td>40</td>\n",
       "      <td>52174.0</td>\n",
       "      <td>12.0</td>\n",
       "      <td>52101.0</td>\n",
       "      <td>52.0</td>\n",
       "      <td>9.0</td>\n",
       "      <td>never_married</td>\n",
       "      <td>not_student</td>\n",
       "      <td>M</td>\n",
       "      <td>in_last_year</td>\n",
       "      <td>worked</td>\n",
       "      <td>English</td>\n",
       "      <td>0</td>\n",
       "      <td>0</td>\n",
       "      <td>0</td>\n",
       "      <td>0</td>\n",
       "      <td>0</td>\n",
       "      <td>1</td>\n",
       "      <td>0</td>\n",
       "      <td>15</td>\n",
       "    </tr>\n",
       "  </tbody>\n",
       "</table>\n",
       "</div>"
      ],
      "text/plain": [
       "   person_id  age citizen_status nativity_status  weekly_hours_worked  \\\n",
       "0         12   28  citizen_birth     native_born                   45   \n",
       "1         13   40  citizen_birth     native_born                   32   \n",
       "2         22   68  citizen_birth     native_born                    0   \n",
       "3         23   64  citizen_birth     native_born                   40   \n",
       "4         25   29  citizen_birth     native_born                   40   \n",
       "\n",
       "   total_income  self_employed_income  wage_income  interest_income  \\\n",
       "0       15254.0               15081.0         82.0             16.0   \n",
       "1       10291.0                  45.0       9068.0             57.0   \n",
       "2       13194.0                  80.0         34.0             69.0   \n",
       "3       30194.0                  33.0      30094.0             37.0   \n",
       "4       52174.0                  12.0      52101.0             52.0   \n",
       "\n",
       "   other_income marital_status school_status sex     when_last_worked  \\\n",
       "0          75.0  never_married   not_student   M         in_last_year   \n",
       "1        1121.0       divorced   not_student   M         in_last_year   \n",
       "2       13011.0        married   not_student   M  over_five_years_ago   \n",
       "3          30.0        married   not_student   F         in_last_year   \n",
       "4           9.0  never_married   not_student   M         in_last_year   \n",
       "\n",
       "  worked_last_week language  race_native_american  race_asian  race_black  \\\n",
       "0           worked  English                     0           0           0   \n",
       "1           worked  English                     0           0           0   \n",
       "2     did_not_work  English                     0           0           0   \n",
       "3           worked  English                     0           0           0   \n",
       "4           worked  English                     0           0           0   \n",
       "\n",
       "   race_native_hawaiian  race_pacific_islander  race_white  race_other  \\\n",
       "0                     0                      0           1           0   \n",
       "1                     0                      0           1           0   \n",
       "2                     0                      0           1           0   \n",
       "3                     0                      0           1           0   \n",
       "4                     0                      0           1           0   \n",
       "\n",
       "   household_id  \n",
       "0             6  \n",
       "1             7  \n",
       "2            13  \n",
       "3            13  \n",
       "4            15  "
      ]
     },
     "execution_count": 489,
     "metadata": {},
     "output_type": "execute_result"
    }
   ],
   "source": [
    "unlabeled.sex = unlabeled.sex.replace({'FEMALE': 'F'})\n",
    "unlabeled.sex = unlabeled.sex.replace({'female': 'F'})\n",
    "\n",
    "unlabeled.sex = unlabeled.sex.replace({'MALE': 'M'})\n",
    "unlabeled.sex = unlabeled.sex.replace({'male': 'M'})\n",
    "\n",
    "unlabeled.head()"
   ]
  },
  {
   "cell_type": "code",
   "execution_count": 490,
   "metadata": {},
   "outputs": [],
   "source": [
    "for val in unlabeled.language.values:\n",
    "    if val != 'English':\n",
    "        unlabeled.language = unlabeled.language.replace({val:'not_english'})"
   ]
  },
  {
   "cell_type": "code",
   "execution_count": null,
   "metadata": {},
   "outputs": [],
   "source": []
  },
  {
   "cell_type": "code",
   "execution_count": 491,
   "metadata": {},
   "outputs": [],
   "source": [
    "unlabeled_new = unlabeled.drop(['person_id', 'household_id'], axis=1)"
   ]
  },
  {
   "cell_type": "code",
   "execution_count": 492,
   "metadata": {},
   "outputs": [],
   "source": [
    "cont = unlabeled_new.select_dtypes(exclude='object')\n",
    "\n",
    "cat = unlabeled_new.select_dtypes(include='object')"
   ]
  },
  {
   "cell_type": "code",
   "execution_count": 493,
   "metadata": {},
   "outputs": [
    {
     "name": "stderr",
     "output_type": "stream",
     "text": [
      "/opt/anaconda3/lib/python3.7/site-packages/ipykernel_launcher.py:2: SettingWithCopyWarning: \n",
      "A value is trying to be set on a copy of a slice from a DataFrame.\n",
      "Try using .loc[row_indexer,col_indexer] = value instead\n",
      "\n",
      "See the caveats in the documentation: https://pandas.pydata.org/pandas-docs/stable/user_guide/indexing.html#returning-a-view-versus-a-copy\n",
      "  \n"
     ]
    }
   ],
   "source": [
    "for col in cont.columns:\n",
    "    cont[col]= (cont[col]-min(cont[col]))/(max(cont[col]-min(cont[col])))"
   ]
  },
  {
   "cell_type": "code",
   "execution_count": 494,
   "metadata": {},
   "outputs": [
    {
     "data": {
      "text/html": [
       "<div>\n",
       "<style scoped>\n",
       "    .dataframe tbody tr th:only-of-type {\n",
       "        vertical-align: middle;\n",
       "    }\n",
       "\n",
       "    .dataframe tbody tr th {\n",
       "        vertical-align: top;\n",
       "    }\n",
       "\n",
       "    .dataframe thead th {\n",
       "        text-align: right;\n",
       "    }\n",
       "</style>\n",
       "<table border=\"1\" class=\"dataframe\">\n",
       "  <thead>\n",
       "    <tr style=\"text-align: right;\">\n",
       "      <th></th>\n",
       "      <th>citizen_status_citizen_naturalized</th>\n",
       "      <th>citizen_status_noncitizen</th>\n",
       "      <th>nativity_status_native_born</th>\n",
       "      <th>marital_status_married</th>\n",
       "      <th>marital_status_never_married</th>\n",
       "      <th>marital_status_separated</th>\n",
       "      <th>marital_status_widowed</th>\n",
       "      <th>school_status_private_school</th>\n",
       "      <th>school_status_public_school</th>\n",
       "      <th>sex_M</th>\n",
       "      <th>when_last_worked_in_last_year</th>\n",
       "      <th>when_last_worked_over_five_years_ago</th>\n",
       "      <th>worked_last_week_not_reported</th>\n",
       "      <th>worked_last_week_worked</th>\n",
       "      <th>language_not_english</th>\n",
       "    </tr>\n",
       "  </thead>\n",
       "  <tbody>\n",
       "    <tr>\n",
       "      <th>0</th>\n",
       "      <td>0.0</td>\n",
       "      <td>0.0</td>\n",
       "      <td>1.0</td>\n",
       "      <td>0.0</td>\n",
       "      <td>1.0</td>\n",
       "      <td>0.0</td>\n",
       "      <td>0.0</td>\n",
       "      <td>0.0</td>\n",
       "      <td>0.0</td>\n",
       "      <td>1.0</td>\n",
       "      <td>1.0</td>\n",
       "      <td>0.0</td>\n",
       "      <td>0.0</td>\n",
       "      <td>1.0</td>\n",
       "      <td>0.0</td>\n",
       "    </tr>\n",
       "    <tr>\n",
       "      <th>1</th>\n",
       "      <td>0.0</td>\n",
       "      <td>0.0</td>\n",
       "      <td>1.0</td>\n",
       "      <td>0.0</td>\n",
       "      <td>0.0</td>\n",
       "      <td>0.0</td>\n",
       "      <td>0.0</td>\n",
       "      <td>0.0</td>\n",
       "      <td>0.0</td>\n",
       "      <td>1.0</td>\n",
       "      <td>1.0</td>\n",
       "      <td>0.0</td>\n",
       "      <td>0.0</td>\n",
       "      <td>1.0</td>\n",
       "      <td>0.0</td>\n",
       "    </tr>\n",
       "  </tbody>\n",
       "</table>\n",
       "</div>"
      ],
      "text/plain": [
       "   citizen_status_citizen_naturalized  citizen_status_noncitizen  \\\n",
       "0                                 0.0                        0.0   \n",
       "1                                 0.0                        0.0   \n",
       "\n",
       "   nativity_status_native_born  marital_status_married  \\\n",
       "0                          1.0                     0.0   \n",
       "1                          1.0                     0.0   \n",
       "\n",
       "   marital_status_never_married  marital_status_separated  \\\n",
       "0                           1.0                       0.0   \n",
       "1                           0.0                       0.0   \n",
       "\n",
       "   marital_status_widowed  school_status_private_school  \\\n",
       "0                     0.0                           0.0   \n",
       "1                     0.0                           0.0   \n",
       "\n",
       "   school_status_public_school  sex_M  when_last_worked_in_last_year  \\\n",
       "0                          0.0    1.0                            1.0   \n",
       "1                          0.0    1.0                            1.0   \n",
       "\n",
       "   when_last_worked_over_five_years_ago  worked_last_week_not_reported  \\\n",
       "0                                   0.0                            0.0   \n",
       "1                                   0.0                            0.0   \n",
       "\n",
       "   worked_last_week_worked  language_not_english  \n",
       "0                      1.0                   0.0  \n",
       "1                      1.0                   0.0  "
      ]
     },
     "execution_count": 494,
     "metadata": {},
     "output_type": "execute_result"
    }
   ],
   "source": [
    "ehe = OneHotEncoder(drop='first')\n",
    "tran = ehe.fit_transform(cat).toarray()\n",
    "tran_df= pd.DataFrame(tran, columns=ehe.get_feature_names(cat.columns))\n",
    "tran_df.head(2)"
   ]
  },
  {
   "cell_type": "code",
   "execution_count": 495,
   "metadata": {},
   "outputs": [],
   "source": [
    "tran_df.reset_index(inplace=True, drop=True)\n"
   ]
  },
  {
   "cell_type": "code",
   "execution_count": 496,
   "metadata": {},
   "outputs": [],
   "source": [
    "cont.reset_index(inplace=True, drop=True)"
   ]
  },
  {
   "cell_type": "code",
   "execution_count": 497,
   "metadata": {},
   "outputs": [],
   "source": [
    "new = tran_df.join(cont)"
   ]
  },
  {
   "cell_type": "code",
   "execution_count": 498,
   "metadata": {},
   "outputs": [
    {
     "data": {
      "text/html": [
       "<div>\n",
       "<style scoped>\n",
       "    .dataframe tbody tr th:only-of-type {\n",
       "        vertical-align: middle;\n",
       "    }\n",
       "\n",
       "    .dataframe tbody tr th {\n",
       "        vertical-align: top;\n",
       "    }\n",
       "\n",
       "    .dataframe thead th {\n",
       "        text-align: right;\n",
       "    }\n",
       "</style>\n",
       "<table border=\"1\" class=\"dataframe\">\n",
       "  <thead>\n",
       "    <tr style=\"text-align: right;\">\n",
       "      <th></th>\n",
       "      <th>citizen_status_citizen_naturalized</th>\n",
       "      <th>citizen_status_noncitizen</th>\n",
       "      <th>nativity_status_native_born</th>\n",
       "      <th>marital_status_married</th>\n",
       "      <th>marital_status_never_married</th>\n",
       "      <th>marital_status_separated</th>\n",
       "      <th>marital_status_widowed</th>\n",
       "      <th>school_status_private_school</th>\n",
       "      <th>school_status_public_school</th>\n",
       "      <th>sex_M</th>\n",
       "      <th>when_last_worked_in_last_year</th>\n",
       "      <th>when_last_worked_over_five_years_ago</th>\n",
       "      <th>worked_last_week_not_reported</th>\n",
       "      <th>worked_last_week_worked</th>\n",
       "      <th>language_not_english</th>\n",
       "      <th>age</th>\n",
       "      <th>weekly_hours_worked</th>\n",
       "      <th>total_income</th>\n",
       "      <th>self_employed_income</th>\n",
       "      <th>wage_income</th>\n",
       "      <th>interest_income</th>\n",
       "      <th>other_income</th>\n",
       "      <th>race_native_american</th>\n",
       "      <th>race_asian</th>\n",
       "      <th>race_black</th>\n",
       "      <th>race_native_hawaiian</th>\n",
       "      <th>race_pacific_islander</th>\n",
       "      <th>race_white</th>\n",
       "      <th>race_other</th>\n",
       "    </tr>\n",
       "  </thead>\n",
       "  <tbody>\n",
       "    <tr>\n",
       "      <th>0</th>\n",
       "      <td>0.0</td>\n",
       "      <td>0.0</td>\n",
       "      <td>1.0</td>\n",
       "      <td>0.0</td>\n",
       "      <td>1.0</td>\n",
       "      <td>0.0</td>\n",
       "      <td>0.0</td>\n",
       "      <td>0.0</td>\n",
       "      <td>0.0</td>\n",
       "      <td>1.0</td>\n",
       "      <td>1.0</td>\n",
       "      <td>0.0</td>\n",
       "      <td>0.0</td>\n",
       "      <td>1.0</td>\n",
       "      <td>0.0</td>\n",
       "      <td>0.131579</td>\n",
       "      <td>0.454545</td>\n",
       "      <td>0.014366</td>\n",
       "      <td>0.048633</td>\n",
       "      <td>0.000162</td>\n",
       "      <td>0.000065</td>\n",
       "      <td>0.000353</td>\n",
       "      <td>0.0</td>\n",
       "      <td>0.0</td>\n",
       "      <td>0.0</td>\n",
       "      <td>0.0</td>\n",
       "      <td>0.0</td>\n",
       "      <td>1.0</td>\n",
       "      <td>0.0</td>\n",
       "    </tr>\n",
       "    <tr>\n",
       "      <th>1</th>\n",
       "      <td>0.0</td>\n",
       "      <td>0.0</td>\n",
       "      <td>1.0</td>\n",
       "      <td>0.0</td>\n",
       "      <td>0.0</td>\n",
       "      <td>0.0</td>\n",
       "      <td>0.0</td>\n",
       "      <td>0.0</td>\n",
       "      <td>0.0</td>\n",
       "      <td>1.0</td>\n",
       "      <td>1.0</td>\n",
       "      <td>0.0</td>\n",
       "      <td>0.0</td>\n",
       "      <td>1.0</td>\n",
       "      <td>0.0</td>\n",
       "      <td>0.289474</td>\n",
       "      <td>0.323232</td>\n",
       "      <td>0.009685</td>\n",
       "      <td>0.000145</td>\n",
       "      <td>0.017953</td>\n",
       "      <td>0.000233</td>\n",
       "      <td>0.005276</td>\n",
       "      <td>0.0</td>\n",
       "      <td>0.0</td>\n",
       "      <td>0.0</td>\n",
       "      <td>0.0</td>\n",
       "      <td>0.0</td>\n",
       "      <td>1.0</td>\n",
       "      <td>0.0</td>\n",
       "    </tr>\n",
       "  </tbody>\n",
       "</table>\n",
       "</div>"
      ],
      "text/plain": [
       "   citizen_status_citizen_naturalized  citizen_status_noncitizen  \\\n",
       "0                                 0.0                        0.0   \n",
       "1                                 0.0                        0.0   \n",
       "\n",
       "   nativity_status_native_born  marital_status_married  \\\n",
       "0                          1.0                     0.0   \n",
       "1                          1.0                     0.0   \n",
       "\n",
       "   marital_status_never_married  marital_status_separated  \\\n",
       "0                           1.0                       0.0   \n",
       "1                           0.0                       0.0   \n",
       "\n",
       "   marital_status_widowed  school_status_private_school  \\\n",
       "0                     0.0                           0.0   \n",
       "1                     0.0                           0.0   \n",
       "\n",
       "   school_status_public_school  sex_M  when_last_worked_in_last_year  \\\n",
       "0                          0.0    1.0                            1.0   \n",
       "1                          0.0    1.0                            1.0   \n",
       "\n",
       "   when_last_worked_over_five_years_ago  worked_last_week_not_reported  \\\n",
       "0                                   0.0                            0.0   \n",
       "1                                   0.0                            0.0   \n",
       "\n",
       "   worked_last_week_worked  language_not_english       age  \\\n",
       "0                      1.0                   0.0  0.131579   \n",
       "1                      1.0                   0.0  0.289474   \n",
       "\n",
       "   weekly_hours_worked  total_income  self_employed_income  wage_income  \\\n",
       "0             0.454545      0.014366              0.048633     0.000162   \n",
       "1             0.323232      0.009685              0.000145     0.017953   \n",
       "\n",
       "   interest_income  other_income  race_native_american  race_asian  \\\n",
       "0         0.000065      0.000353                   0.0         0.0   \n",
       "1         0.000233      0.005276                   0.0         0.0   \n",
       "\n",
       "   race_black  race_native_hawaiian  race_pacific_islander  race_white  \\\n",
       "0         0.0                   0.0                    0.0         1.0   \n",
       "1         0.0                   0.0                    0.0         1.0   \n",
       "\n",
       "   race_other  \n",
       "0         0.0  \n",
       "1         0.0  "
      ]
     },
     "execution_count": 498,
     "metadata": {},
     "output_type": "execute_result"
    }
   ],
   "source": [
    "new.head(2)"
   ]
  },
  {
   "cell_type": "code",
   "execution_count": 499,
   "metadata": {},
   "outputs": [
    {
     "name": "stdout",
     "output_type": "stream",
     "text": [
      "Stored 'new' (DataFrame)\n"
     ]
    }
   ],
   "source": [
    "%store new"
   ]
  },
  {
   "cell_type": "code",
   "execution_count": 500,
   "metadata": {},
   "outputs": [
    {
     "data": {
      "text/plain": [
       "array([0, 0, 0, ..., 0, 0, 0])"
      ]
     },
     "execution_count": 500,
     "metadata": {},
     "output_type": "execute_result"
    }
   ],
   "source": [
    "predictions = logreg.predict_proba(new)\n",
    "\n",
    "predicted = logreg.predict(new)\n",
    "\n",
    "predicted"
   ]
  },
  {
   "cell_type": "code",
   "execution_count": 575,
   "metadata": {},
   "outputs": [
    {
     "data": {
      "text/html": [
       "<div>\n",
       "<style scoped>\n",
       "    .dataframe tbody tr th:only-of-type {\n",
       "        vertical-align: middle;\n",
       "    }\n",
       "\n",
       "    .dataframe tbody tr th {\n",
       "        vertical-align: top;\n",
       "    }\n",
       "\n",
       "    .dataframe thead th {\n",
       "        text-align: right;\n",
       "    }\n",
       "</style>\n",
       "<table border=\"1\" class=\"dataframe\">\n",
       "  <thead>\n",
       "    <tr style=\"text-align: right;\">\n",
       "      <th></th>\n",
       "      <th>person_id</th>\n",
       "      <th>score</th>\n",
       "    </tr>\n",
       "  </thead>\n",
       "  <tbody>\n",
       "    <tr>\n",
       "      <th>0</th>\n",
       "      <td>12</td>\n",
       "      <td>0</td>\n",
       "    </tr>\n",
       "    <tr>\n",
       "      <th>1</th>\n",
       "      <td>13</td>\n",
       "      <td>0</td>\n",
       "    </tr>\n",
       "    <tr>\n",
       "      <th>2</th>\n",
       "      <td>22</td>\n",
       "      <td>0</td>\n",
       "    </tr>\n",
       "    <tr>\n",
       "      <th>3</th>\n",
       "      <td>23</td>\n",
       "      <td>0</td>\n",
       "    </tr>\n",
       "    <tr>\n",
       "      <th>4</th>\n",
       "      <td>25</td>\n",
       "      <td>0</td>\n",
       "    </tr>\n",
       "    <tr>\n",
       "      <th>...</th>\n",
       "      <td>...</td>\n",
       "      <td>...</td>\n",
       "    </tr>\n",
       "    <tr>\n",
       "      <th>20167</th>\n",
       "      <td>126592</td>\n",
       "      <td>0</td>\n",
       "    </tr>\n",
       "    <tr>\n",
       "      <th>20168</th>\n",
       "      <td>126623</td>\n",
       "      <td>0</td>\n",
       "    </tr>\n",
       "    <tr>\n",
       "      <th>20169</th>\n",
       "      <td>126624</td>\n",
       "      <td>0</td>\n",
       "    </tr>\n",
       "    <tr>\n",
       "      <th>20170</th>\n",
       "      <td>126640</td>\n",
       "      <td>0</td>\n",
       "    </tr>\n",
       "    <tr>\n",
       "      <th>20171</th>\n",
       "      <td>126641</td>\n",
       "      <td>0</td>\n",
       "    </tr>\n",
       "  </tbody>\n",
       "</table>\n",
       "<p>20172 rows × 2 columns</p>\n",
       "</div>"
      ],
      "text/plain": [
       "       person_id  score\n",
       "0             12      0\n",
       "1             13      0\n",
       "2             22      0\n",
       "3             23      0\n",
       "4             25      0\n",
       "...          ...    ...\n",
       "20167     126592      0\n",
       "20168     126623      0\n",
       "20169     126624      0\n",
       "20170     126640      0\n",
       "20171     126641      0\n",
       "\n",
       "[20172 rows x 2 columns]"
      ]
     },
     "execution_count": 575,
     "metadata": {},
     "output_type": "execute_result"
    }
   ],
   "source": [
    "df = pd.DataFrame(predictions)\n",
    "\n",
    "df['person_id'] = unlabeled.person_id\n",
    "\n",
    "df['score'] = predicted\n",
    "\n",
    "\n",
    "pd.set_option('display.max_rows', 500)\n",
    "\n",
    "df = df[['person_id', 'score']]\n",
    "df"
   ]
  },
  {
   "cell_type": "markdown",
   "metadata": {},
   "source": [
    "The first column corresponds to the probability that the sample belongs to the first class and the second column corresponds to the probability that the sample belongs to the second class."
   ]
  },
  {
   "cell_type": "markdown",
   "metadata": {},
   "source": [
    "Please write your answers in this document, and include your code (including any exploratory or\n",
    "data-munging code) as part3_code.txt. \n",
    "\n",
    "\n",
    "In addition, please apply your model to the observations in\n",
    "unlabeled_data.csv to produce individual probability predictions of uninsurance. \n",
    "\n",
    "After that, place\n",
    "the person_id column and the associated scores into a file called part3_scores.csv. The headers on\n",
    "this csv should be “person_id” and “score” for person_id and predicted scores, respectively."
   ]
  },
  {
   "cell_type": "code",
   "execution_count": null,
   "metadata": {},
   "outputs": [],
   "source": []
  },
  {
   "cell_type": "code",
   "execution_count": null,
   "metadata": {},
   "outputs": [],
   "source": []
  },
  {
   "cell_type": "code",
   "execution_count": 720,
   "metadata": {},
   "outputs": [],
   "source": [
    "# from sklearn import svm\n",
    "\n",
    "# #Create a svm Classifier\n",
    "# clf = svm.SVC(kernel='rbf', probability=True) # Linear Kernel\n",
    "\n",
    "# #Train the model using the training sets\n",
    "# clf.fit(X_train, y_train)\n",
    "\n",
    "# #Predict the response for test dataset\n",
    "# y_pred = clf.predict(X_test)"
   ]
  },
  {
   "cell_type": "code",
   "execution_count": 721,
   "metadata": {},
   "outputs": [],
   "source": [
    "# clf.score(X_test, y_test)"
   ]
  },
  {
   "cell_type": "code",
   "execution_count": 719,
   "metadata": {},
   "outputs": [],
   "source": [
    "# from sklearn import metrics\n",
    "\n",
    "# # Model Accuracy: how often is the classifier correct?\n",
    "# print(\"Accuracy:\",metrics.accuracy_score(y_test, y_pred))"
   ]
  },
  {
   "cell_type": "code",
   "execution_count": 715,
   "metadata": {},
   "outputs": [],
   "source": [
    "# # Model Precision:\n",
    "# print(\"Precision:\",metrics.precision_score(y_test, y_pred))\n",
    "\n",
    "# # Model Recall\n",
    "# print(\"Recall:\",metrics.recall_score(y_test, y_pred))"
   ]
  },
  {
   "cell_type": "code",
   "execution_count": 716,
   "metadata": {},
   "outputs": [],
   "source": [
    "# from sklearn.metrics import accuracy_score, confusion_matrix, classification_report\n",
    "\n",
    "# log_confusion = confusion_matrix(y_test, y_pred, normalize='true')\n",
    "# class_report = classification_report(y_test, y_pred)\n",
    "\n",
    "# print(log_confusion)\n",
    "# print(class_report)"
   ]
  },
  {
   "cell_type": "code",
   "execution_count": 717,
   "metadata": {},
   "outputs": [],
   "source": [
    "# predictions = clf.predict_proba(new)\n",
    "\n",
    "# predicted = clf.predict(new)\n",
    "\n",
    "# predicted"
   ]
  },
  {
   "cell_type": "code",
   "execution_count": 718,
   "metadata": {},
   "outputs": [],
   "source": [
    "# df = pd.DataFrame(predictions)\n",
    "\n",
    "# df['person_id'] = unlabeled.person_id\n",
    "\n",
    "# df['score'] = predicted\n",
    "\n",
    "\n",
    "# pd.set_option('display.max_rows', 500)\n",
    "\n",
    "# # df.head(50)"
   ]
  },
  {
   "cell_type": "code",
   "execution_count": null,
   "metadata": {},
   "outputs": [],
   "source": []
  }
 ],
 "metadata": {
  "kernelspec": {
   "display_name": "Python 3",
   "language": "python",
   "name": "python3"
  },
  "language_info": {
   "codemirror_mode": {
    "name": "ipython",
    "version": 3
   },
   "file_extension": ".py",
   "mimetype": "text/x-python",
   "name": "python",
   "nbconvert_exporter": "python",
   "pygments_lexer": "ipython3",
   "version": "3.7.0"
  },
  "toc": {
   "base_numbering": 1,
   "nav_menu": {},
   "number_sections": true,
   "sideBar": true,
   "skip_h1_title": false,
   "title_cell": "Table of Contents",
   "title_sidebar": "Contents",
   "toc_cell": false,
   "toc_position": {},
   "toc_section_display": true,
   "toc_window_display": false
  }
 },
 "nbformat": 4,
 "nbformat_minor": 4
}
