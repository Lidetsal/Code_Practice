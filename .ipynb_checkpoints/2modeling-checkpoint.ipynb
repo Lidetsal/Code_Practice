{
 "cells": [
  {
   "cell_type": "code",
   "execution_count": 251,
   "metadata": {},
   "outputs": [],
   "source": [
    "import pandas as pd\n",
    "import numpy as np\n",
    "import matplotlib.pyplot as plt\n",
    "import seaborn as sns\n",
    "\n",
    "\n",
    "from sklearn.preprocessing import MinMaxScaler\n",
    "from sklearn.preprocessing import StandardScaler, OneHotEncoder, LabelEncoder\n",
    "from sklearn.model_selection import train_test_split \n",
    "\n",
    "from sklearn.model_selection import GridSearchCV, cross_validate"
   ]
  },
  {
   "cell_type": "code",
   "execution_count": 252,
   "metadata": {},
   "outputs": [
    {
     "data": {
      "text/html": [
       "<div>\n",
       "<style scoped>\n",
       "    .dataframe tbody tr th:only-of-type {\n",
       "        vertical-align: middle;\n",
       "    }\n",
       "\n",
       "    .dataframe tbody tr th {\n",
       "        vertical-align: top;\n",
       "    }\n",
       "\n",
       "    .dataframe thead th {\n",
       "        text-align: right;\n",
       "    }\n",
       "</style>\n",
       "<table border=\"1\" class=\"dataframe\">\n",
       "  <thead>\n",
       "    <tr style=\"text-align: right;\">\n",
       "      <th></th>\n",
       "      <th>person_id</th>\n",
       "      <th>age</th>\n",
       "      <th>citizen_status</th>\n",
       "      <th>nativity_status</th>\n",
       "      <th>weekly_hours_worked</th>\n",
       "      <th>total_income</th>\n",
       "      <th>self_employed_income</th>\n",
       "      <th>wage_income</th>\n",
       "      <th>interest_income</th>\n",
       "      <th>other_income</th>\n",
       "      <th>marital_status</th>\n",
       "      <th>school_status</th>\n",
       "      <th>sex</th>\n",
       "      <th>when_last_worked</th>\n",
       "      <th>worked_last_week</th>\n",
       "      <th>language</th>\n",
       "      <th>race_native_american</th>\n",
       "      <th>race_asian</th>\n",
       "      <th>race_black</th>\n",
       "      <th>race_native_hawaiian</th>\n",
       "      <th>race_pacific_islander</th>\n",
       "      <th>race_white</th>\n",
       "      <th>race_other</th>\n",
       "      <th>uninsured</th>\n",
       "      <th>household_id</th>\n",
       "    </tr>\n",
       "  </thead>\n",
       "  <tbody>\n",
       "    <tr>\n",
       "      <th>0</th>\n",
       "      <td>1</td>\n",
       "      <td>45</td>\n",
       "      <td>citizen_birth</td>\n",
       "      <td>native_born</td>\n",
       "      <td>15</td>\n",
       "      <td>908.0</td>\n",
       "      <td>62.0</td>\n",
       "      <td>800.0</td>\n",
       "      <td>11.0</td>\n",
       "      <td>35.0</td>\n",
       "      <td>married</td>\n",
       "      <td>not_student</td>\n",
       "      <td>FEMALE</td>\n",
       "      <td>in_last_year</td>\n",
       "      <td>worked</td>\n",
       "      <td>English</td>\n",
       "      <td>0</td>\n",
       "      <td>0</td>\n",
       "      <td>0</td>\n",
       "      <td>0</td>\n",
       "      <td>0</td>\n",
       "      <td>1</td>\n",
       "      <td>0</td>\n",
       "      <td>0</td>\n",
       "      <td>1</td>\n",
       "    </tr>\n",
       "    <tr>\n",
       "      <th>1</th>\n",
       "      <td>2</td>\n",
       "      <td>47</td>\n",
       "      <td>citizen_birth</td>\n",
       "      <td>native_born</td>\n",
       "      <td>50</td>\n",
       "      <td>180499.0</td>\n",
       "      <td>49.0</td>\n",
       "      <td>160007.0</td>\n",
       "      <td>20424.0</td>\n",
       "      <td>19.0</td>\n",
       "      <td>married</td>\n",
       "      <td>not_student</td>\n",
       "      <td>MALE</td>\n",
       "      <td>in_last_year</td>\n",
       "      <td>worked</td>\n",
       "      <td>English</td>\n",
       "      <td>0</td>\n",
       "      <td>0</td>\n",
       "      <td>0</td>\n",
       "      <td>0</td>\n",
       "      <td>0</td>\n",
       "      <td>1</td>\n",
       "      <td>0</td>\n",
       "      <td>0</td>\n",
       "      <td>1</td>\n",
       "    </tr>\n",
       "    <tr>\n",
       "      <th>2</th>\n",
       "      <td>4</td>\n",
       "      <td>26</td>\n",
       "      <td>citizen_birth</td>\n",
       "      <td>native_born</td>\n",
       "      <td>0</td>\n",
       "      <td>7367.0</td>\n",
       "      <td>93.0</td>\n",
       "      <td>4.0</td>\n",
       "      <td>20.0</td>\n",
       "      <td>7250.0</td>\n",
       "      <td>never_married</td>\n",
       "      <td>not_student</td>\n",
       "      <td>male</td>\n",
       "      <td>over_five_years_ago</td>\n",
       "      <td>not_reported</td>\n",
       "      <td>English</td>\n",
       "      <td>0</td>\n",
       "      <td>0</td>\n",
       "      <td>1</td>\n",
       "      <td>0</td>\n",
       "      <td>0</td>\n",
       "      <td>0</td>\n",
       "      <td>0</td>\n",
       "      <td>0</td>\n",
       "      <td>2</td>\n",
       "    </tr>\n",
       "  </tbody>\n",
       "</table>\n",
       "</div>"
      ],
      "text/plain": [
       "   person_id  age citizen_status nativity_status  weekly_hours_worked  \\\n",
       "0          1   45  citizen_birth     native_born                   15   \n",
       "1          2   47  citizen_birth     native_born                   50   \n",
       "2          4   26  citizen_birth     native_born                    0   \n",
       "\n",
       "   total_income  self_employed_income  wage_income  interest_income  \\\n",
       "0         908.0                  62.0        800.0             11.0   \n",
       "1      180499.0                  49.0     160007.0          20424.0   \n",
       "2        7367.0                  93.0          4.0             20.0   \n",
       "\n",
       "   other_income marital_status school_status     sex     when_last_worked  \\\n",
       "0          35.0        married   not_student  FEMALE         in_last_year   \n",
       "1          19.0        married   not_student    MALE         in_last_year   \n",
       "2        7250.0  never_married   not_student    male  over_five_years_ago   \n",
       "\n",
       "  worked_last_week language  race_native_american  race_asian  race_black  \\\n",
       "0           worked  English                     0           0           0   \n",
       "1           worked  English                     0           0           0   \n",
       "2     not_reported  English                     0           0           1   \n",
       "\n",
       "   race_native_hawaiian  race_pacific_islander  race_white  race_other  \\\n",
       "0                     0                      0           1           0   \n",
       "1                     0                      0           1           0   \n",
       "2                     0                      0           0           0   \n",
       "\n",
       "   uninsured  household_id  \n",
       "0          0             1  \n",
       "1          0             1  \n",
       "2          0             2  "
      ]
     },
     "execution_count": 252,
     "metadata": {},
     "output_type": "execute_result"
    }
   ],
   "source": [
    "train = pd.read_csv('training_set_data.csv')\n",
    "pd.set_option('display.max_columns', 500)\n",
    "train.head(3)"
   ]
  },
  {
   "cell_type": "code",
   "execution_count": 253,
   "metadata": {},
   "outputs": [
    {
     "data": {
      "text/plain": [
       "(59597, 25)"
      ]
     },
     "execution_count": 253,
     "metadata": {},
     "output_type": "execute_result"
    }
   ],
   "source": [
    "train.shape"
   ]
  },
  {
   "cell_type": "code",
   "execution_count": 254,
   "metadata": {},
   "outputs": [
    {
     "data": {
      "text/plain": [
       "F    30834\n",
       "M    28763\n",
       "Name: sex, dtype: int64"
      ]
     },
     "execution_count": 254,
     "metadata": {},
     "output_type": "execute_result"
    }
   ],
   "source": [
    "train.sex = train.sex.replace({'FEMALE': 'F'})\n",
    "train.sex = train.sex.replace({'female': 'F'})\n",
    "\n",
    "train.sex = train.sex.replace({'MALE': 'M'})\n",
    "train.sex = train.sex.replace({'male': 'M'})\n",
    "\n",
    "train.sex.value_counts()"
   ]
  },
  {
   "cell_type": "code",
   "execution_count": 255,
   "metadata": {},
   "outputs": [],
   "source": [
    "for val in train.language.values:\n",
    "    if val != 'English':\n",
    "        train.language = train.language.replace({val:'not_english'})"
   ]
  },
  {
   "cell_type": "code",
   "execution_count": 256,
   "metadata": {},
   "outputs": [
    {
     "data": {
      "text/plain": [
       "English        49326\n",
       "not_english    10271\n",
       "Name: language, dtype: int64"
      ]
     },
     "execution_count": 256,
     "metadata": {},
     "output_type": "execute_result"
    }
   ],
   "source": [
    "train.language.value_counts()"
   ]
  },
  {
   "cell_type": "code",
   "execution_count": 257,
   "metadata": {},
   "outputs": [
    {
     "data": {
      "text/plain": [
       "0    54977\n",
       "1     4620\n",
       "Name: uninsured, dtype: int64"
      ]
     },
     "execution_count": 257,
     "metadata": {},
     "output_type": "execute_result"
    }
   ],
   "source": [
    "train.uninsured.value_counts()"
   ]
  },
  {
   "cell_type": "code",
   "execution_count": null,
   "metadata": {},
   "outputs": [],
   "source": []
  },
  {
   "cell_type": "code",
   "execution_count": 300,
   "metadata": {},
   "outputs": [
    {
     "data": {
      "text/plain": [
       "0    54977\n",
       "1    25178\n",
       "Name: uninsured, dtype: int64"
      ]
     },
     "execution_count": 300,
     "metadata": {},
     "output_type": "execute_result"
    }
   ],
   "source": [
    "# Separate majority and minority classes\n",
    "majority = train[train.uninsured==0]\n",
    "minority = train[train.uninsured==1]\n",
    " \n",
    "# Upsample minority class\n",
    "train_minority_upsampled = resample(minority, \n",
    "                                 replace=True,     # sample with replacement\n",
    "                                 n_samples=25178,    # to match majority class\n",
    "                                 random_state=123) # reproducible results\n",
    " \n",
    "# Combine majority class with upsampled minority class\n",
    "X = pd.concat([majority, train_minority_upsampled])\n",
    " \n",
    "X.uninsured.value_counts()"
   ]
  },
  {
   "cell_type": "markdown",
   "metadata": {},
   "source": [
    "## Target variable"
   ]
  },
  {
   "cell_type": "code",
   "execution_count": 301,
   "metadata": {},
   "outputs": [],
   "source": [
    "X = train.drop(['person_id', 'uninsured', 'household_id'], axis=1)\n",
    "y= train['uninsured']"
   ]
  },
  {
   "cell_type": "markdown",
   "metadata": {},
   "source": [
    "## One hot encoder"
   ]
  },
  {
   "cell_type": "code",
   "execution_count": 302,
   "metadata": {},
   "outputs": [],
   "source": [
    "cont = X.select_dtypes(exclude='object')\n",
    "\n",
    "cat = X.select_dtypes(include='object')"
   ]
  },
  {
   "cell_type": "markdown",
   "metadata": {},
   "source": [
    "## scaling"
   ]
  },
  {
   "cell_type": "code",
   "execution_count": 303,
   "metadata": {},
   "outputs": [
    {
     "name": "stderr",
     "output_type": "stream",
     "text": [
      "/opt/anaconda3/lib/python3.7/site-packages/ipykernel_launcher.py:2: SettingWithCopyWarning: \n",
      "A value is trying to be set on a copy of a slice from a DataFrame.\n",
      "Try using .loc[row_indexer,col_indexer] = value instead\n",
      "\n",
      "See the caveats in the documentation: https://pandas.pydata.org/pandas-docs/stable/user_guide/indexing.html#returning-a-view-versus-a-copy\n",
      "  \n"
     ]
    }
   ],
   "source": [
    "for col in cont.columns:\n",
    "    cont[col]= (cont[col]-min(cont[col]))/(max(cont[col]-min(cont[col])))"
   ]
  },
  {
   "cell_type": "code",
   "execution_count": 304,
   "metadata": {},
   "outputs": [],
   "source": [
    "ehe = OneHotEncoder(drop='first')\n"
   ]
  },
  {
   "cell_type": "code",
   "execution_count": 305,
   "metadata": {},
   "outputs": [],
   "source": [
    "tran = ehe.fit_transform(cat).toarray()"
   ]
  },
  {
   "cell_type": "code",
   "execution_count": 306,
   "metadata": {},
   "outputs": [],
   "source": [
    "tran_df= pd.DataFrame(tran, columns=ehe.get_feature_names(cat.columns))"
   ]
  },
  {
   "cell_type": "code",
   "execution_count": 307,
   "metadata": {},
   "outputs": [
    {
     "data": {
      "text/html": [
       "<div>\n",
       "<style scoped>\n",
       "    .dataframe tbody tr th:only-of-type {\n",
       "        vertical-align: middle;\n",
       "    }\n",
       "\n",
       "    .dataframe tbody tr th {\n",
       "        vertical-align: top;\n",
       "    }\n",
       "\n",
       "    .dataframe thead th {\n",
       "        text-align: right;\n",
       "    }\n",
       "</style>\n",
       "<table border=\"1\" class=\"dataframe\">\n",
       "  <thead>\n",
       "    <tr style=\"text-align: right;\">\n",
       "      <th></th>\n",
       "      <th>citizen_status_citizen_naturalized</th>\n",
       "      <th>citizen_status_noncitizen</th>\n",
       "      <th>nativity_status_native_born</th>\n",
       "      <th>marital_status_married</th>\n",
       "      <th>marital_status_never_married</th>\n",
       "      <th>marital_status_separated</th>\n",
       "      <th>marital_status_widowed</th>\n",
       "      <th>school_status_private_school</th>\n",
       "      <th>school_status_public_school</th>\n",
       "      <th>sex_M</th>\n",
       "      <th>when_last_worked_in_last_year</th>\n",
       "      <th>when_last_worked_over_five_years_ago</th>\n",
       "      <th>worked_last_week_not_reported</th>\n",
       "      <th>worked_last_week_worked</th>\n",
       "      <th>language_not_english</th>\n",
       "    </tr>\n",
       "  </thead>\n",
       "  <tbody>\n",
       "    <tr>\n",
       "      <th>0</th>\n",
       "      <td>0.0</td>\n",
       "      <td>0.0</td>\n",
       "      <td>1.0</td>\n",
       "      <td>1.0</td>\n",
       "      <td>0.0</td>\n",
       "      <td>0.0</td>\n",
       "      <td>0.0</td>\n",
       "      <td>0.0</td>\n",
       "      <td>0.0</td>\n",
       "      <td>0.0</td>\n",
       "      <td>1.0</td>\n",
       "      <td>0.0</td>\n",
       "      <td>0.0</td>\n",
       "      <td>1.0</td>\n",
       "      <td>0.0</td>\n",
       "    </tr>\n",
       "    <tr>\n",
       "      <th>1</th>\n",
       "      <td>0.0</td>\n",
       "      <td>0.0</td>\n",
       "      <td>1.0</td>\n",
       "      <td>1.0</td>\n",
       "      <td>0.0</td>\n",
       "      <td>0.0</td>\n",
       "      <td>0.0</td>\n",
       "      <td>0.0</td>\n",
       "      <td>0.0</td>\n",
       "      <td>1.0</td>\n",
       "      <td>1.0</td>\n",
       "      <td>0.0</td>\n",
       "      <td>0.0</td>\n",
       "      <td>1.0</td>\n",
       "      <td>0.0</td>\n",
       "    </tr>\n",
       "  </tbody>\n",
       "</table>\n",
       "</div>"
      ],
      "text/plain": [
       "   citizen_status_citizen_naturalized  citizen_status_noncitizen  \\\n",
       "0                                 0.0                        0.0   \n",
       "1                                 0.0                        0.0   \n",
       "\n",
       "   nativity_status_native_born  marital_status_married  \\\n",
       "0                          1.0                     1.0   \n",
       "1                          1.0                     1.0   \n",
       "\n",
       "   marital_status_never_married  marital_status_separated  \\\n",
       "0                           0.0                       0.0   \n",
       "1                           0.0                       0.0   \n",
       "\n",
       "   marital_status_widowed  school_status_private_school  \\\n",
       "0                     0.0                           0.0   \n",
       "1                     0.0                           0.0   \n",
       "\n",
       "   school_status_public_school  sex_M  when_last_worked_in_last_year  \\\n",
       "0                          0.0    0.0                            1.0   \n",
       "1                          0.0    1.0                            1.0   \n",
       "\n",
       "   when_last_worked_over_five_years_ago  worked_last_week_not_reported  \\\n",
       "0                                   0.0                            0.0   \n",
       "1                                   0.0                            0.0   \n",
       "\n",
       "   worked_last_week_worked  language_not_english  \n",
       "0                      1.0                   0.0  \n",
       "1                      1.0                   0.0  "
      ]
     },
     "execution_count": 307,
     "metadata": {},
     "output_type": "execute_result"
    }
   ],
   "source": [
    "tran_df.head(2)"
   ]
  },
  {
   "cell_type": "code",
   "execution_count": 308,
   "metadata": {},
   "outputs": [],
   "source": [
    "tran_df.reset_index(inplace=True, drop=True)\n"
   ]
  },
  {
   "cell_type": "code",
   "execution_count": 309,
   "metadata": {},
   "outputs": [],
   "source": [
    "cont.reset_index(inplace=True, drop=True)"
   ]
  },
  {
   "cell_type": "code",
   "execution_count": 310,
   "metadata": {},
   "outputs": [],
   "source": [
    "X = tran_df.join(cont)"
   ]
  },
  {
   "cell_type": "markdown",
   "metadata": {},
   "source": [
    "## Training and Testing sets"
   ]
  },
  {
   "cell_type": "code",
   "execution_count": null,
   "metadata": {},
   "outputs": [],
   "source": []
  },
  {
   "cell_type": "code",
   "execution_count": null,
   "metadata": {},
   "outputs": [],
   "source": []
  },
  {
   "cell_type": "code",
   "execution_count": 311,
   "metadata": {},
   "outputs": [],
   "source": [
    "\n",
    "\n",
    "X_train, X_test, y_train, y_test = train_test_split(X, y, test_size=0.3, random_state=28)"
   ]
  },
  {
   "cell_type": "code",
   "execution_count": 312,
   "metadata": {},
   "outputs": [],
   "source": [
    "from sklearn.ensemble import RandomForestClassifier\n",
    "\n",
    "R_forest = RandomForestClassifier(n_estimators=10)\n",
    "\n",
    "R_forest = RandomForestClassifier()\n",
    "R_model = R_forest.fit(X_train, y_train)"
   ]
  },
  {
   "cell_type": "code",
   "execution_count": 313,
   "metadata": {},
   "outputs": [
    {
     "data": {
      "text/plain": [
       "0.9253914988814318"
      ]
     },
     "execution_count": 313,
     "metadata": {},
     "output_type": "execute_result"
    }
   ],
   "source": [
    "R_model.score(X_test, y_test)"
   ]
  },
  {
   "cell_type": "code",
   "execution_count": 314,
   "metadata": {},
   "outputs": [],
   "source": [
    "y_pred = R_model.predict(X_test)"
   ]
  },
  {
   "cell_type": "code",
   "execution_count": 315,
   "metadata": {
    "scrolled": true
   },
   "outputs": [
    {
     "data": {
      "text/plain": [
       "0.17450495049504952"
      ]
     },
     "execution_count": 315,
     "metadata": {},
     "output_type": "execute_result"
    }
   ],
   "source": [
    "from sklearn import metrics\n",
    "\n",
    "metrics.f1_score(y_test, y_pred)"
   ]
  },
  {
   "cell_type": "code",
   "execution_count": 316,
   "metadata": {},
   "outputs": [
    {
     "name": "stdout",
     "output_type": "stream",
     "text": [
      "Precision: 0.5573122529644269\n"
     ]
    }
   ],
   "source": [
    "print(\"Precision:\",metrics.precision_score(y_test, y_pred))"
   ]
  },
  {
   "cell_type": "code",
   "execution_count": 317,
   "metadata": {},
   "outputs": [
    {
     "data": {
      "text/plain": [
       "0.17450495049504952"
      ]
     },
     "execution_count": 317,
     "metadata": {},
     "output_type": "execute_result"
    }
   ],
   "source": [
    "metrics.f1_score(y_test, y_pred)"
   ]
  },
  {
   "cell_type": "code",
   "execution_count": 318,
   "metadata": {},
   "outputs": [
    {
     "data": {
      "text/plain": [
       "0.10344827586206896"
      ]
     },
     "execution_count": 318,
     "metadata": {},
     "output_type": "execute_result"
    }
   ],
   "source": [
    "metrics.recall_score(y_test, y_pred)"
   ]
  },
  {
   "cell_type": "code",
   "execution_count": 319,
   "metadata": {},
   "outputs": [
    {
     "data": {
      "text/html": [
       "<div>\n",
       "<style scoped>\n",
       "    .dataframe tbody tr th:only-of-type {\n",
       "        vertical-align: middle;\n",
       "    }\n",
       "\n",
       "    .dataframe tbody tr th {\n",
       "        vertical-align: top;\n",
       "    }\n",
       "\n",
       "    .dataframe thead th {\n",
       "        text-align: right;\n",
       "    }\n",
       "</style>\n",
       "<table border=\"1\" class=\"dataframe\">\n",
       "  <thead>\n",
       "    <tr style=\"text-align: right;\">\n",
       "      <th></th>\n",
       "      <th>importance</th>\n",
       "      <th>features</th>\n",
       "    </tr>\n",
       "  </thead>\n",
       "  <tbody>\n",
       "    <tr>\n",
       "      <th>5</th>\n",
       "      <td>0.003689</td>\n",
       "      <td>marital_status_separated</td>\n",
       "    </tr>\n",
       "    <tr>\n",
       "      <th>7</th>\n",
       "      <td>0.003655</td>\n",
       "      <td>school_status_private_school</td>\n",
       "    </tr>\n",
       "    <tr>\n",
       "      <th>22</th>\n",
       "      <td>0.002134</td>\n",
       "      <td>race_native_american</td>\n",
       "    </tr>\n",
       "    <tr>\n",
       "      <th>26</th>\n",
       "      <td>0.000744</td>\n",
       "      <td>race_pacific_islander</td>\n",
       "    </tr>\n",
       "    <tr>\n",
       "      <th>25</th>\n",
       "      <td>0.000018</td>\n",
       "      <td>race_native_hawaiian</td>\n",
       "    </tr>\n",
       "  </tbody>\n",
       "</table>\n",
       "</div>"
      ],
      "text/plain": [
       "    importance                      features\n",
       "5     0.003689      marital_status_separated\n",
       "7     0.003655  school_status_private_school\n",
       "22    0.002134          race_native_american\n",
       "26    0.000744         race_pacific_islander\n",
       "25    0.000018          race_native_hawaiian"
      ]
     },
     "execution_count": 319,
     "metadata": {},
     "output_type": "execute_result"
    }
   ],
   "source": [
    "a = pd.DataFrame(R_model.feature_importances_)\n",
    "\n",
    "a['features'] = X_train.columns\n",
    "\n",
    "a.columns = ['importance', 'features']\n",
    "a = a.sort_values(by='importance', ascending=False)\n",
    "\n",
    "a.tail()"
   ]
  },
  {
   "cell_type": "code",
   "execution_count": 320,
   "metadata": {},
   "outputs": [
    {
     "data": {
      "text/plain": [
       "<matplotlib.axes._subplots.AxesSubplot at 0x129039e10>"
      ]
     },
     "execution_count": 320,
     "metadata": {},
     "output_type": "execute_result"
    },
    {
     "data": {
      "image/png": "[encoded data removed]",
      "text/plain": [
       "<Figure size 720x720 with 1 Axes>"
      ]
     },
     "metadata": {},
     "output_type": "display_data"
    }
   ],
   "source": [
    "plt.figure(figsize=(10, 10))\n",
    "sns.barplot(a.importance, a.features)"
   ]
  },
  {
   "cell_type": "code",
   "execution_count": 321,
   "metadata": {},
   "outputs": [
    {
     "name": "stdout",
     "output_type": "stream",
     "text": [
      "[0.92247951 0.92075363 0.92463685 0.92291097 0.92291097 0.92088608]\n"
     ]
    }
   ],
   "source": [
    "from sklearn.metrics import accuracy_score, confusion_matrix, classification_report\n",
    "from sklearn.model_selection import cross_validate, KFold\n",
    "from sklearn.model_selection import cross_val_score\n",
    "\n",
    "print(cross_val_score(R_model, X_train, y_train, scoring='accuracy', cv = 6))\n"
   ]
  },
  {
   "cell_type": "code",
   "execution_count": 322,
   "metadata": {},
   "outputs": [
    {
     "name": "stdout",
     "output_type": "stream",
     "text": [
      "[[0.99321911 0.00678089]\n",
      " [0.89655172 0.10344828]]\n",
      "              precision    recall  f1-score   support\n",
      "\n",
      "           0       0.93      0.99      0.96     16517\n",
      "           1       0.56      0.10      0.17      1363\n",
      "\n",
      "    accuracy                           0.93     17880\n",
      "   macro avg       0.74      0.55      0.57     17880\n",
      "weighted avg       0.90      0.93      0.90     17880\n",
      "\n"
     ]
    }
   ],
   "source": [
    "from sklearn.metrics import accuracy_score, confusion_matrix, classification_report\n",
    "pred = R_model.predict(X_test)\n",
    "\n",
    "#Confusion matrix and classification report\n",
    "forest_confusion = confusion_matrix(y_test, pred, normalize='true')\n",
    "forest_report = classification_report(y_test, pred)\n",
    "\n",
    "print(forest_confusion)\n",
    "print(forest_report)"
   ]
  },
  {
   "cell_type": "code",
   "execution_count": 323,
   "metadata": {},
   "outputs": [
    {
     "data": {
      "image/png": "[encoded data removed]",
      "text/plain": [
       "<Figure size 792x504 with 2 Axes>"
      ]
     },
     "execution_count": 323,
     "metadata": {},
     "output_type": "execute_result"
    },
    {
     "data": {
      "image/png": "[encoded data removed]",
      "text/plain": [
       "<Figure size 792x504 with 2 Axes>"
      ]
     },
     "metadata": {},
     "output_type": "display_data"
    }
   ],
   "source": [
    "def print_confusion_matrix(confusion_matrix, class_names, figsize = (11,7), fontsize=19):\n",
    "    \n",
    "    df_cm = pd.DataFrame(confusion_matrix, index=class_names, columns=class_names)\n",
    "    fig = plt.figure(figsize=figsize )\n",
    "    try:\n",
    "        heatmap = sns.heatmap(df_cm, annot=True, cmap='YlGnBu')\n",
    "        sns.set(font_scale=2)\n",
    "    except ValueError:\n",
    "        raise ValueError(\"Confusion matrix values must be integers.\")\n",
    "        \n",
    "    heatmap.yaxis.set_ticklabels(heatmap.yaxis.get_ticklabels(), rotation=0, ha='right', fontsize=fontsize)\n",
    "    heatmap.xaxis.set_ticklabels(heatmap.xaxis.get_ticklabels(), rotation=45, ha='right', fontsize=fontsize)\n",
    "    \n",
    "    plt.ylabel('True label', fontsize=13)\n",
    "    plt.xlabel('Predicted label', fontsize=13)\n",
    "    \n",
    "    return fig\n",
    "\n",
    "\n",
    "forest_classes = R_model.classes_\n",
    "\n",
    "print_confusion_matrix(forest_confusion, forest_classes, figsize =(11,7), fontsize=15, )"
   ]
  },
  {
   "cell_type": "code",
   "execution_count": 324,
   "metadata": {},
   "outputs": [],
   "source": [
    "%store -r new"
   ]
  },
  {
   "cell_type": "code",
   "execution_count": 325,
   "metadata": {},
   "outputs": [
    {
     "data": {
      "text/html": [
       "<div>\n",
       "<style scoped>\n",
       "    .dataframe tbody tr th:only-of-type {\n",
       "        vertical-align: middle;\n",
       "    }\n",
       "\n",
       "    .dataframe tbody tr th {\n",
       "        vertical-align: top;\n",
       "    }\n",
       "\n",
       "    .dataframe thead th {\n",
       "        text-align: right;\n",
       "    }\n",
       "</style>\n",
       "<table border=\"1\" class=\"dataframe\">\n",
       "  <thead>\n",
       "    <tr style=\"text-align: right;\">\n",
       "      <th></th>\n",
       "      <th>person_id</th>\n",
       "      <th>age</th>\n",
       "      <th>citizen_status</th>\n",
       "      <th>nativity_status</th>\n",
       "      <th>weekly_hours_worked</th>\n",
       "      <th>total_income</th>\n",
       "      <th>self_employed_income</th>\n",
       "      <th>wage_income</th>\n",
       "      <th>interest_income</th>\n",
       "      <th>other_income</th>\n",
       "      <th>marital_status</th>\n",
       "      <th>school_status</th>\n",
       "      <th>sex</th>\n",
       "      <th>when_last_worked</th>\n",
       "      <th>worked_last_week</th>\n",
       "      <th>language</th>\n",
       "      <th>race_native_american</th>\n",
       "      <th>race_asian</th>\n",
       "      <th>race_black</th>\n",
       "      <th>race_native_hawaiian</th>\n",
       "      <th>race_pacific_islander</th>\n",
       "      <th>race_white</th>\n",
       "      <th>race_other</th>\n",
       "      <th>household_id</th>\n",
       "    </tr>\n",
       "  </thead>\n",
       "  <tbody>\n",
       "    <tr>\n",
       "      <th>0</th>\n",
       "      <td>12</td>\n",
       "      <td>28</td>\n",
       "      <td>citizen_birth</td>\n",
       "      <td>native_born</td>\n",
       "      <td>45</td>\n",
       "      <td>15254.0</td>\n",
       "      <td>15081.0</td>\n",
       "      <td>82.0</td>\n",
       "      <td>16.0</td>\n",
       "      <td>75.0</td>\n",
       "      <td>never_married</td>\n",
       "      <td>not_student</td>\n",
       "      <td>MALE</td>\n",
       "      <td>in_last_year</td>\n",
       "      <td>worked</td>\n",
       "      <td>English</td>\n",
       "      <td>0</td>\n",
       "      <td>0</td>\n",
       "      <td>0</td>\n",
       "      <td>0</td>\n",
       "      <td>0</td>\n",
       "      <td>1</td>\n",
       "      <td>0</td>\n",
       "      <td>6</td>\n",
       "    </tr>\n",
       "    <tr>\n",
       "      <th>1</th>\n",
       "      <td>13</td>\n",
       "      <td>40</td>\n",
       "      <td>citizen_birth</td>\n",
       "      <td>native_born</td>\n",
       "      <td>32</td>\n",
       "      <td>10291.0</td>\n",
       "      <td>45.0</td>\n",
       "      <td>9068.0</td>\n",
       "      <td>57.0</td>\n",
       "      <td>1121.0</td>\n",
       "      <td>divorced</td>\n",
       "      <td>not_student</td>\n",
       "      <td>MALE</td>\n",
       "      <td>in_last_year</td>\n",
       "      <td>worked</td>\n",
       "      <td>English</td>\n",
       "      <td>0</td>\n",
       "      <td>0</td>\n",
       "      <td>0</td>\n",
       "      <td>0</td>\n",
       "      <td>0</td>\n",
       "      <td>1</td>\n",
       "      <td>0</td>\n",
       "      <td>7</td>\n",
       "    </tr>\n",
       "    <tr>\n",
       "      <th>2</th>\n",
       "      <td>22</td>\n",
       "      <td>68</td>\n",
       "      <td>citizen_birth</td>\n",
       "      <td>native_born</td>\n",
       "      <td>0</td>\n",
       "      <td>13194.0</td>\n",
       "      <td>80.0</td>\n",
       "      <td>34.0</td>\n",
       "      <td>69.0</td>\n",
       "      <td>13011.0</td>\n",
       "      <td>married</td>\n",
       "      <td>not_student</td>\n",
       "      <td>MALE</td>\n",
       "      <td>over_five_years_ago</td>\n",
       "      <td>did_not_work</td>\n",
       "      <td>English</td>\n",
       "      <td>0</td>\n",
       "      <td>0</td>\n",
       "      <td>0</td>\n",
       "      <td>0</td>\n",
       "      <td>0</td>\n",
       "      <td>1</td>\n",
       "      <td>0</td>\n",
       "      <td>13</td>\n",
       "    </tr>\n",
       "    <tr>\n",
       "      <th>3</th>\n",
       "      <td>23</td>\n",
       "      <td>64</td>\n",
       "      <td>citizen_birth</td>\n",
       "      <td>native_born</td>\n",
       "      <td>40</td>\n",
       "      <td>30194.0</td>\n",
       "      <td>33.0</td>\n",
       "      <td>30094.0</td>\n",
       "      <td>37.0</td>\n",
       "      <td>30.0</td>\n",
       "      <td>married</td>\n",
       "      <td>not_student</td>\n",
       "      <td>F</td>\n",
       "      <td>in_last_year</td>\n",
       "      <td>worked</td>\n",
       "      <td>English</td>\n",
       "      <td>0</td>\n",
       "      <td>0</td>\n",
       "      <td>0</td>\n",
       "      <td>0</td>\n",
       "      <td>0</td>\n",
       "      <td>1</td>\n",
       "      <td>0</td>\n",
       "      <td>13</td>\n",
       "    </tr>\n",
       "    <tr>\n",
       "      <th>4</th>\n",
       "      <td>25</td>\n",
       "      <td>29</td>\n",
       "      <td>citizen_birth</td>\n",
       "      <td>native_born</td>\n",
       "      <td>40</td>\n",
       "      <td>52174.0</td>\n",
       "      <td>12.0</td>\n",
       "      <td>52101.0</td>\n",
       "      <td>52.0</td>\n",
       "      <td>9.0</td>\n",
       "      <td>never_married</td>\n",
       "      <td>not_student</td>\n",
       "      <td>MALE</td>\n",
       "      <td>in_last_year</td>\n",
       "      <td>worked</td>\n",
       "      <td>English</td>\n",
       "      <td>0</td>\n",
       "      <td>0</td>\n",
       "      <td>0</td>\n",
       "      <td>0</td>\n",
       "      <td>0</td>\n",
       "      <td>1</td>\n",
       "      <td>0</td>\n",
       "      <td>15</td>\n",
       "    </tr>\n",
       "  </tbody>\n",
       "</table>\n",
       "</div>"
      ],
      "text/plain": [
       "   person_id  age citizen_status nativity_status  weekly_hours_worked  \\\n",
       "0         12   28  citizen_birth     native_born                   45   \n",
       "1         13   40  citizen_birth     native_born                   32   \n",
       "2         22   68  citizen_birth     native_born                    0   \n",
       "3         23   64  citizen_birth     native_born                   40   \n",
       "4         25   29  citizen_birth     native_born                   40   \n",
       "\n",
       "   total_income  self_employed_income  wage_income  interest_income  \\\n",
       "0       15254.0               15081.0         82.0             16.0   \n",
       "1       10291.0                  45.0       9068.0             57.0   \n",
       "2       13194.0                  80.0         34.0             69.0   \n",
       "3       30194.0                  33.0      30094.0             37.0   \n",
       "4       52174.0                  12.0      52101.0             52.0   \n",
       "\n",
       "   other_income marital_status school_status   sex     when_last_worked  \\\n",
       "0          75.0  never_married   not_student  MALE         in_last_year   \n",
       "1        1121.0       divorced   not_student  MALE         in_last_year   \n",
       "2       13011.0        married   not_student  MALE  over_five_years_ago   \n",
       "3          30.0        married   not_student     F         in_last_year   \n",
       "4           9.0  never_married   not_student  MALE         in_last_year   \n",
       "\n",
       "  worked_last_week language  race_native_american  race_asian  race_black  \\\n",
       "0           worked  English                     0           0           0   \n",
       "1           worked  English                     0           0           0   \n",
       "2     did_not_work  English                     0           0           0   \n",
       "3           worked  English                     0           0           0   \n",
       "4           worked  English                     0           0           0   \n",
       "\n",
       "   race_native_hawaiian  race_pacific_islander  race_white  race_other  \\\n",
       "0                     0                      0           1           0   \n",
       "1                     0                      0           1           0   \n",
       "2                     0                      0           1           0   \n",
       "3                     0                      0           1           0   \n",
       "4                     0                      0           1           0   \n",
       "\n",
       "   household_id  \n",
       "0             6  \n",
       "1             7  \n",
       "2            13  \n",
       "3            13  \n",
       "4            15  "
      ]
     },
     "execution_count": 325,
     "metadata": {},
     "output_type": "execute_result"
    }
   ],
   "source": [
    "unlabeled = pd.read_csv('unlabeled_data.csv')\n",
    "pd.set_option('display.max_columns', 500)\n",
    "unlabeled.head()"
   ]
  },
  {
   "cell_type": "code",
   "execution_count": 326,
   "metadata": {},
   "outputs": [
    {
     "data": {
      "text/html": [
       "<div>\n",
       "<style scoped>\n",
       "    .dataframe tbody tr th:only-of-type {\n",
       "        vertical-align: middle;\n",
       "    }\n",
       "\n",
       "    .dataframe tbody tr th {\n",
       "        vertical-align: top;\n",
       "    }\n",
       "\n",
       "    .dataframe thead th {\n",
       "        text-align: right;\n",
       "    }\n",
       "</style>\n",
       "<table border=\"1\" class=\"dataframe\">\n",
       "  <thead>\n",
       "    <tr style=\"text-align: right;\">\n",
       "      <th></th>\n",
       "      <th>citizen_status_citizen_naturalized</th>\n",
       "      <th>citizen_status_noncitizen</th>\n",
       "      <th>nativity_status_native_born</th>\n",
       "      <th>marital_status_married</th>\n",
       "      <th>marital_status_never_married</th>\n",
       "      <th>marital_status_separated</th>\n",
       "      <th>marital_status_widowed</th>\n",
       "      <th>school_status_private_school</th>\n",
       "      <th>school_status_public_school</th>\n",
       "      <th>sex_M</th>\n",
       "      <th>when_last_worked_in_last_year</th>\n",
       "      <th>when_last_worked_over_five_years_ago</th>\n",
       "      <th>worked_last_week_not_reported</th>\n",
       "      <th>worked_last_week_worked</th>\n",
       "      <th>language_not_english</th>\n",
       "      <th>age</th>\n",
       "      <th>weekly_hours_worked</th>\n",
       "      <th>total_income</th>\n",
       "      <th>self_employed_income</th>\n",
       "      <th>wage_income</th>\n",
       "      <th>interest_income</th>\n",
       "      <th>other_income</th>\n",
       "      <th>race_native_american</th>\n",
       "      <th>race_asian</th>\n",
       "      <th>race_black</th>\n",
       "      <th>race_native_hawaiian</th>\n",
       "      <th>race_pacific_islander</th>\n",
       "      <th>race_white</th>\n",
       "      <th>race_other</th>\n",
       "    </tr>\n",
       "  </thead>\n",
       "  <tbody>\n",
       "    <tr>\n",
       "      <th>0</th>\n",
       "      <td>0.0</td>\n",
       "      <td>0.0</td>\n",
       "      <td>1.0</td>\n",
       "      <td>0.0</td>\n",
       "      <td>1.0</td>\n",
       "      <td>0.0</td>\n",
       "      <td>0.0</td>\n",
       "      <td>0.0</td>\n",
       "      <td>0.0</td>\n",
       "      <td>1.0</td>\n",
       "      <td>1.0</td>\n",
       "      <td>0.0</td>\n",
       "      <td>0.0</td>\n",
       "      <td>1.0</td>\n",
       "      <td>0.0</td>\n",
       "      <td>0.131579</td>\n",
       "      <td>0.454545</td>\n",
       "      <td>0.014366</td>\n",
       "      <td>0.048633</td>\n",
       "      <td>0.000162</td>\n",
       "      <td>0.000065</td>\n",
       "      <td>0.000353</td>\n",
       "      <td>0.0</td>\n",
       "      <td>0.0</td>\n",
       "      <td>0.0</td>\n",
       "      <td>0.0</td>\n",
       "      <td>0.0</td>\n",
       "      <td>1.0</td>\n",
       "      <td>0.0</td>\n",
       "    </tr>\n",
       "    <tr>\n",
       "      <th>1</th>\n",
       "      <td>0.0</td>\n",
       "      <td>0.0</td>\n",
       "      <td>1.0</td>\n",
       "      <td>0.0</td>\n",
       "      <td>0.0</td>\n",
       "      <td>0.0</td>\n",
       "      <td>0.0</td>\n",
       "      <td>0.0</td>\n",
       "      <td>0.0</td>\n",
       "      <td>1.0</td>\n",
       "      <td>1.0</td>\n",
       "      <td>0.0</td>\n",
       "      <td>0.0</td>\n",
       "      <td>1.0</td>\n",
       "      <td>0.0</td>\n",
       "      <td>0.289474</td>\n",
       "      <td>0.323232</td>\n",
       "      <td>0.009685</td>\n",
       "      <td>0.000145</td>\n",
       "      <td>0.017953</td>\n",
       "      <td>0.000233</td>\n",
       "      <td>0.005276</td>\n",
       "      <td>0.0</td>\n",
       "      <td>0.0</td>\n",
       "      <td>0.0</td>\n",
       "      <td>0.0</td>\n",
       "      <td>0.0</td>\n",
       "      <td>1.0</td>\n",
       "      <td>0.0</td>\n",
       "    </tr>\n",
       "    <tr>\n",
       "      <th>2</th>\n",
       "      <td>0.0</td>\n",
       "      <td>0.0</td>\n",
       "      <td>1.0</td>\n",
       "      <td>1.0</td>\n",
       "      <td>0.0</td>\n",
       "      <td>0.0</td>\n",
       "      <td>0.0</td>\n",
       "      <td>0.0</td>\n",
       "      <td>0.0</td>\n",
       "      <td>1.0</td>\n",
       "      <td>0.0</td>\n",
       "      <td>1.0</td>\n",
       "      <td>0.0</td>\n",
       "      <td>0.0</td>\n",
       "      <td>0.0</td>\n",
       "      <td>0.657895</td>\n",
       "      <td>0.000000</td>\n",
       "      <td>0.012423</td>\n",
       "      <td>0.000258</td>\n",
       "      <td>0.000067</td>\n",
       "      <td>0.000282</td>\n",
       "      <td>0.061239</td>\n",
       "      <td>0.0</td>\n",
       "      <td>0.0</td>\n",
       "      <td>0.0</td>\n",
       "      <td>0.0</td>\n",
       "      <td>0.0</td>\n",
       "      <td>1.0</td>\n",
       "      <td>0.0</td>\n",
       "    </tr>\n",
       "    <tr>\n",
       "      <th>3</th>\n",
       "      <td>0.0</td>\n",
       "      <td>0.0</td>\n",
       "      <td>1.0</td>\n",
       "      <td>1.0</td>\n",
       "      <td>0.0</td>\n",
       "      <td>0.0</td>\n",
       "      <td>0.0</td>\n",
       "      <td>0.0</td>\n",
       "      <td>0.0</td>\n",
       "      <td>0.0</td>\n",
       "      <td>1.0</td>\n",
       "      <td>0.0</td>\n",
       "      <td>0.0</td>\n",
       "      <td>1.0</td>\n",
       "      <td>0.0</td>\n",
       "      <td>0.605263</td>\n",
       "      <td>0.404040</td>\n",
       "      <td>0.028458</td>\n",
       "      <td>0.000106</td>\n",
       "      <td>0.059580</td>\n",
       "      <td>0.000151</td>\n",
       "      <td>0.000141</td>\n",
       "      <td>0.0</td>\n",
       "      <td>0.0</td>\n",
       "      <td>0.0</td>\n",
       "      <td>0.0</td>\n",
       "      <td>0.0</td>\n",
       "      <td>1.0</td>\n",
       "      <td>0.0</td>\n",
       "    </tr>\n",
       "    <tr>\n",
       "      <th>4</th>\n",
       "      <td>0.0</td>\n",
       "      <td>0.0</td>\n",
       "      <td>1.0</td>\n",
       "      <td>0.0</td>\n",
       "      <td>1.0</td>\n",
       "      <td>0.0</td>\n",
       "      <td>0.0</td>\n",
       "      <td>0.0</td>\n",
       "      <td>0.0</td>\n",
       "      <td>1.0</td>\n",
       "      <td>1.0</td>\n",
       "      <td>0.0</td>\n",
       "      <td>0.0</td>\n",
       "      <td>1.0</td>\n",
       "      <td>0.0</td>\n",
       "      <td>0.144737</td>\n",
       "      <td>0.404040</td>\n",
       "      <td>0.049191</td>\n",
       "      <td>0.000039</td>\n",
       "      <td>0.103150</td>\n",
       "      <td>0.000212</td>\n",
       "      <td>0.000042</td>\n",
       "      <td>0.0</td>\n",
       "      <td>0.0</td>\n",
       "      <td>0.0</td>\n",
       "      <td>0.0</td>\n",
       "      <td>0.0</td>\n",
       "      <td>1.0</td>\n",
       "      <td>0.0</td>\n",
       "    </tr>\n",
       "  </tbody>\n",
       "</table>\n",
       "</div>"
      ],
      "text/plain": [
       "   citizen_status_citizen_naturalized  citizen_status_noncitizen  \\\n",
       "0                                 0.0                        0.0   \n",
       "1                                 0.0                        0.0   \n",
       "2                                 0.0                        0.0   \n",
       "3                                 0.0                        0.0   \n",
       "4                                 0.0                        0.0   \n",
       "\n",
       "   nativity_status_native_born  marital_status_married  \\\n",
       "0                          1.0                     0.0   \n",
       "1                          1.0                     0.0   \n",
       "2                          1.0                     1.0   \n",
       "3                          1.0                     1.0   \n",
       "4                          1.0                     0.0   \n",
       "\n",
       "   marital_status_never_married  marital_status_separated  \\\n",
       "0                           1.0                       0.0   \n",
       "1                           0.0                       0.0   \n",
       "2                           0.0                       0.0   \n",
       "3                           0.0                       0.0   \n",
       "4                           1.0                       0.0   \n",
       "\n",
       "   marital_status_widowed  school_status_private_school  \\\n",
       "0                     0.0                           0.0   \n",
       "1                     0.0                           0.0   \n",
       "2                     0.0                           0.0   \n",
       "3                     0.0                           0.0   \n",
       "4                     0.0                           0.0   \n",
       "\n",
       "   school_status_public_school  sex_M  when_last_worked_in_last_year  \\\n",
       "0                          0.0    1.0                            1.0   \n",
       "1                          0.0    1.0                            1.0   \n",
       "2                          0.0    1.0                            0.0   \n",
       "3                          0.0    0.0                            1.0   \n",
       "4                          0.0    1.0                            1.0   \n",
       "\n",
       "   when_last_worked_over_five_years_ago  worked_last_week_not_reported  \\\n",
       "0                                   0.0                            0.0   \n",
       "1                                   0.0                            0.0   \n",
       "2                                   1.0                            0.0   \n",
       "3                                   0.0                            0.0   \n",
       "4                                   0.0                            0.0   \n",
       "\n",
       "   worked_last_week_worked  language_not_english       age  \\\n",
       "0                      1.0                   0.0  0.131579   \n",
       "1                      1.0                   0.0  0.289474   \n",
       "2                      0.0                   0.0  0.657895   \n",
       "3                      1.0                   0.0  0.605263   \n",
       "4                      1.0                   0.0  0.144737   \n",
       "\n",
       "   weekly_hours_worked  total_income  self_employed_income  wage_income  \\\n",
       "0             0.454545      0.014366              0.048633     0.000162   \n",
       "1             0.323232      0.009685              0.000145     0.017953   \n",
       "2             0.000000      0.012423              0.000258     0.000067   \n",
       "3             0.404040      0.028458              0.000106     0.059580   \n",
       "4             0.404040      0.049191              0.000039     0.103150   \n",
       "\n",
       "   interest_income  other_income  race_native_american  race_asian  \\\n",
       "0         0.000065      0.000353                   0.0         0.0   \n",
       "1         0.000233      0.005276                   0.0         0.0   \n",
       "2         0.000282      0.061239                   0.0         0.0   \n",
       "3         0.000151      0.000141                   0.0         0.0   \n",
       "4         0.000212      0.000042                   0.0         0.0   \n",
       "\n",
       "   race_black  race_native_hawaiian  race_pacific_islander  race_white  \\\n",
       "0         0.0                   0.0                    0.0         1.0   \n",
       "1         0.0                   0.0                    0.0         1.0   \n",
       "2         0.0                   0.0                    0.0         1.0   \n",
       "3         0.0                   0.0                    0.0         1.0   \n",
       "4         0.0                   0.0                    0.0         1.0   \n",
       "\n",
       "   race_other  \n",
       "0         0.0  \n",
       "1         0.0  \n",
       "2         0.0  \n",
       "3         0.0  \n",
       "4         0.0  "
      ]
     },
     "execution_count": 326,
     "metadata": {},
     "output_type": "execute_result"
    }
   ],
   "source": [
    "new.head()"
   ]
  },
  {
   "cell_type": "code",
   "execution_count": 327,
   "metadata": {},
   "outputs": [
    {
     "data": {
      "text/html": [
       "<div>\n",
       "<style scoped>\n",
       "    .dataframe tbody tr th:only-of-type {\n",
       "        vertical-align: middle;\n",
       "    }\n",
       "\n",
       "    .dataframe tbody tr th {\n",
       "        vertical-align: top;\n",
       "    }\n",
       "\n",
       "    .dataframe thead th {\n",
       "        text-align: right;\n",
       "    }\n",
       "</style>\n",
       "<table border=\"1\" class=\"dataframe\">\n",
       "  <thead>\n",
       "    <tr style=\"text-align: right;\">\n",
       "      <th></th>\n",
       "      <th>0</th>\n",
       "      <th>1</th>\n",
       "      <th>person_id</th>\n",
       "    </tr>\n",
       "  </thead>\n",
       "  <tbody>\n",
       "    <tr>\n",
       "      <th>0</th>\n",
       "      <td>0.82</td>\n",
       "      <td>0.18</td>\n",
       "      <td>12</td>\n",
       "    </tr>\n",
       "    <tr>\n",
       "      <th>1</th>\n",
       "      <td>0.94</td>\n",
       "      <td>0.06</td>\n",
       "      <td>13</td>\n",
       "    </tr>\n",
       "    <tr>\n",
       "      <th>2</th>\n",
       "      <td>0.94</td>\n",
       "      <td>0.06</td>\n",
       "      <td>22</td>\n",
       "    </tr>\n",
       "    <tr>\n",
       "      <th>3</th>\n",
       "      <td>0.92</td>\n",
       "      <td>0.08</td>\n",
       "      <td>23</td>\n",
       "    </tr>\n",
       "    <tr>\n",
       "      <th>4</th>\n",
       "      <td>0.99</td>\n",
       "      <td>0.01</td>\n",
       "      <td>25</td>\n",
       "    </tr>\n",
       "  </tbody>\n",
       "</table>\n",
       "</div>"
      ],
      "text/plain": [
       "      0     1  person_id\n",
       "0  0.82  0.18         12\n",
       "1  0.94  0.06         13\n",
       "2  0.94  0.06         22\n",
       "3  0.92  0.08         23\n",
       "4  0.99  0.01         25"
      ]
     },
     "execution_count": 327,
     "metadata": {},
     "output_type": "execute_result"
    }
   ],
   "source": [
    "predictions = R_model.predict_proba(new)\n",
    "\n",
    "df = pd.DataFrame(predictions)\n",
    "\n",
    "df['person_id'] = unlabeled.person_id\n",
    "\n",
    "\n",
    "df.head()"
   ]
  },
  {
   "cell_type": "markdown",
   "metadata": {},
   "source": []
  },
  {
   "cell_type": "markdown",
   "metadata": {},
   "source": []
  },
  {
   "cell_type": "code",
   "execution_count": null,
   "metadata": {},
   "outputs": [],
   "source": []
  },
  {
   "cell_type": "code",
   "execution_count": null,
   "metadata": {},
   "outputs": [],
   "source": []
  }
 ],
 "metadata": {
  "kernelspec": {
   "display_name": "Python 3",
   "language": "python",
   "name": "python3"
  },
  "language_info": {
   "codemirror_mode": {
    "name": "ipython",
    "version": 3
   },
   "file_extension": ".py",
   "mimetype": "text/x-python",
   "name": "python",
   "nbconvert_exporter": "python",
   "pygments_lexer": "ipython3",
   "version": "3.7.0"
  },
  "toc": {
   "base_numbering": 1,
   "nav_menu": {},
   "number_sections": true,
   "sideBar": true,
   "skip_h1_title": false,
   "title_cell": "Table of Contents",
   "title_sidebar": "Contents",
   "toc_cell": false,
   "toc_position": {},
   "toc_section_display": true,
   "toc_window_display": false
  }
 },
 "nbformat": 4,
 "nbformat_minor": 4
}
